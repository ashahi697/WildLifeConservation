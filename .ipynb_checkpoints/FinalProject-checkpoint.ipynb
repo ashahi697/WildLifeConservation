{
 "cells": [
  {
   "cell_type": "code",
   "execution_count": 5,
   "id": "9514c307-8d56-45d6-9fcd-a3bfe5dd23b8",
   "metadata": {},
   "outputs": [],
   "source": [
    "#import data\n",
    "\n",
    "import json\n",
    "\n",
    "file= open(\"number-species-threatened/number-species-threatened.metadata.json\", 'r')\n",
    "\n",
    "data = json.loads(file.read())\n",
    "           "
   ]
  },
  {
   "cell_type": "code",
   "execution_count": 7,
   "id": "9e896d18-2029-4852-b042-132075821db9",
   "metadata": {},
   "outputs": [
    {
     "data": {
      "text/plain": [
       "{'chart': {'title': 'Number of species threatened with extinction',\n",
       "  'subtitle': 'The IUCN Red List has assessed the [extinction risk](#dod:extinction_risk) of only a small share of the total known species in the world. This means the number of species threatened with extinction is likely to be a significant underestimate of the total number of species at risk.',\n",
       "  'note': \"'Threatened' species are those that are categorized as 'Critically endangered', 'Endangered' or 'Vulnerable' on the IUCN Red List.\",\n",
       "  'citation': 'International Union for Conservation of Nature Red List of Threatened Species (2024)',\n",
       "  'originalChartUrl': 'https://ourworldindata.org/grapher/number-species-threatened?v=1&csvType=full&useColumnShortNames=false',\n",
       "  'selection': ['Amphibians',\n",
       "   'Birds',\n",
       "   'Fishes',\n",
       "   'Reptiles',\n",
       "   'Mammals',\n",
       "   'Corals',\n",
       "   'Insects',\n",
       "   'Crustaceans',\n",
       "   'Arachnids']},\n",
       " 'columns': {'Number of threatened species': {'titleShort': 'Number of threatened species',\n",
       "   'titleLong': 'Number of threatened species',\n",
       "   'unit': 'species',\n",
       "   'timespan': '2024-2024',\n",
       "   'type': 'Integer',\n",
       "   'owidVariableId': 1004693,\n",
       "   'shortName': 'threatened_species',\n",
       "   'lastUpdated': '2024-12-23',\n",
       "   'citationShort': 'International Union for Conservation of Nature Red List of Threatened Species (2024) – processed by Our World in Data',\n",
       "   'citationLong': 'International Union for Conservation of Nature Red List of Threatened Species (2024) – processed by Our World in Data. “Number of threatened species” [dataset]. International Union for Conservation of Nature, “International Union for Conservation of Nature Red List of Threatened Species” [original data].',\n",
       "   'fullMetadata': 'https://api.ourworldindata.org/v1/indicators/1004693.metadata.json'}},\n",
       " 'dateDownloaded': '2025-07-03',\n",
       " 'activeFilters': {}}"
      ]
     },
     "execution_count": 7,
     "metadata": {},
     "output_type": "execute_result"
    }
   ],
   "source": [
    "#Looking at our data source\n",
    "data"
   ]
  },
  {
   "cell_type": "code",
   "execution_count": null,
   "id": "14d07ca8-7cd4-4ae0-a867-9dc19467b5d2",
   "metadata": {},
   "outputs": [],
   "source": []
  }
 ],
 "metadata": {
  "kernelspec": {
   "display_name": "Python 3 (ipykernel)",
   "language": "python",
   "name": "python3"
  },
  "language_info": {
   "codemirror_mode": {
    "name": "ipython",
    "version": 3
   },
   "file_extension": ".py",
   "mimetype": "text/x-python",
   "name": "python",
   "nbconvert_exporter": "python",
   "pygments_lexer": "ipython3",
   "version": "3.12.4"
  }
 },
 "nbformat": 4,
 "nbformat_minor": 5
}

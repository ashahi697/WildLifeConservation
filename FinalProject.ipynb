{
 "cells": [
  {
   "cell_type": "code",
   "execution_count": 37,
   "id": "9514c307-8d56-45d6-9fcd-a3bfe5dd23b8",
   "metadata": {},
   "outputs": [
    {
     "name": "stdout",
     "output_type": "stream",
     "text": [
      "                 Entity  Code  Year  Number of threatened species\n",
      "0            All groups   NaN  2024                         46337\n",
      "1     All invertebrates   NaN  2024                          6432\n",
      "2            All plants   NaN  2024                         28159\n",
      "3       All vertebrates   NaN  2024                         11400\n",
      "4            Amphibians   NaN  2024                          2873\n",
      "5             Arachnids   NaN  2024                           283\n",
      "6                 Birds   NaN  2024                          1311\n",
      "7           Brown algae   NaN  2024                             6\n",
      "8                Corals   NaN  2024                           334\n",
      "9           Crustaceans   NaN  2024                           748\n",
      "10     Ferns and allies   NaN  2024                           322\n",
      "11               Fishes   NaN  2024                          4017\n",
      "12     Flowering plants   NaN  2024                         27197\n",
      "13          Green algae   NaN  2024                             0\n",
      "14          Gymnosperms   NaN  2024                           450\n",
      "15      Horseshoe Crabs   NaN  2024                             2\n",
      "16              Insects   NaN  2024                          2423\n",
      "17              Mammals   NaN  2024                          1354\n",
      "18             Molluscs   NaN  2024                          2456\n",
      "19               Mosses   NaN  2024                           181\n",
      "20            Mushrooms   NaN  2024                           340\n",
      "21  Other invertebrates   NaN  2024                           177\n",
      "22            Red algae   NaN  2024                             9\n",
      "23             Reptiles   NaN  2024                          1845\n",
      "24          Total fungi   NaN  2024                           346\n",
      "25         Velvet Worms   NaN  2024                             9\n"
     ]
    }
   ],
   "source": [
    "#import pandas\n",
    "import pandas as pd\n",
    "#Opening and reading the csv\n",
    "df = pd.read_csv('number-species-threatened/number-species-threatened.csv')\n",
    "\n",
    "print(df)"
   ]
  },
  {
   "cell_type": "code",
   "execution_count": 39,
   "id": "9e896d18-2029-4852-b042-132075821db9",
   "metadata": {},
   "outputs": [],
   "source": [
    "#Cleaning the data and deleting the 'Code NaN' column \n",
    "del df['Code']"
   ]
  },
  {
   "cell_type": "code",
   "execution_count": 41,
   "id": "db25f7dd-9f7d-449b-9958-b060569eba60",
   "metadata": {},
   "outputs": [
    {
     "data": {
      "text/html": [
       "<div>\n",
       "<style scoped>\n",
       "    .dataframe tbody tr th:only-of-type {\n",
       "        vertical-align: middle;\n",
       "    }\n",
       "\n",
       "    .dataframe tbody tr th {\n",
       "        vertical-align: top;\n",
       "    }\n",
       "\n",
       "    .dataframe thead th {\n",
       "        text-align: right;\n",
       "    }\n",
       "</style>\n",
       "<table border=\"1\" class=\"dataframe\">\n",
       "  <thead>\n",
       "    <tr style=\"text-align: right;\">\n",
       "      <th></th>\n",
       "      <th>Entity</th>\n",
       "      <th>Year</th>\n",
       "      <th>Number of threatened species</th>\n",
       "    </tr>\n",
       "  </thead>\n",
       "  <tbody>\n",
       "    <tr>\n",
       "      <th>0</th>\n",
       "      <td>All groups</td>\n",
       "      <td>2024</td>\n",
       "      <td>46337</td>\n",
       "    </tr>\n",
       "    <tr>\n",
       "      <th>1</th>\n",
       "      <td>All invertebrates</td>\n",
       "      <td>2024</td>\n",
       "      <td>6432</td>\n",
       "    </tr>\n",
       "    <tr>\n",
       "      <th>2</th>\n",
       "      <td>All plants</td>\n",
       "      <td>2024</td>\n",
       "      <td>28159</td>\n",
       "    </tr>\n",
       "    <tr>\n",
       "      <th>3</th>\n",
       "      <td>All vertebrates</td>\n",
       "      <td>2024</td>\n",
       "      <td>11400</td>\n",
       "    </tr>\n",
       "    <tr>\n",
       "      <th>4</th>\n",
       "      <td>Amphibians</td>\n",
       "      <td>2024</td>\n",
       "      <td>2873</td>\n",
       "    </tr>\n",
       "    <tr>\n",
       "      <th>5</th>\n",
       "      <td>Arachnids</td>\n",
       "      <td>2024</td>\n",
       "      <td>283</td>\n",
       "    </tr>\n",
       "    <tr>\n",
       "      <th>6</th>\n",
       "      <td>Birds</td>\n",
       "      <td>2024</td>\n",
       "      <td>1311</td>\n",
       "    </tr>\n",
       "    <tr>\n",
       "      <th>7</th>\n",
       "      <td>Brown algae</td>\n",
       "      <td>2024</td>\n",
       "      <td>6</td>\n",
       "    </tr>\n",
       "    <tr>\n",
       "      <th>8</th>\n",
       "      <td>Corals</td>\n",
       "      <td>2024</td>\n",
       "      <td>334</td>\n",
       "    </tr>\n",
       "    <tr>\n",
       "      <th>9</th>\n",
       "      <td>Crustaceans</td>\n",
       "      <td>2024</td>\n",
       "      <td>748</td>\n",
       "    </tr>\n",
       "    <tr>\n",
       "      <th>10</th>\n",
       "      <td>Ferns and allies</td>\n",
       "      <td>2024</td>\n",
       "      <td>322</td>\n",
       "    </tr>\n",
       "    <tr>\n",
       "      <th>11</th>\n",
       "      <td>Fishes</td>\n",
       "      <td>2024</td>\n",
       "      <td>4017</td>\n",
       "    </tr>\n",
       "    <tr>\n",
       "      <th>12</th>\n",
       "      <td>Flowering plants</td>\n",
       "      <td>2024</td>\n",
       "      <td>27197</td>\n",
       "    </tr>\n",
       "    <tr>\n",
       "      <th>13</th>\n",
       "      <td>Green algae</td>\n",
       "      <td>2024</td>\n",
       "      <td>0</td>\n",
       "    </tr>\n",
       "    <tr>\n",
       "      <th>14</th>\n",
       "      <td>Gymnosperms</td>\n",
       "      <td>2024</td>\n",
       "      <td>450</td>\n",
       "    </tr>\n",
       "    <tr>\n",
       "      <th>15</th>\n",
       "      <td>Horseshoe Crabs</td>\n",
       "      <td>2024</td>\n",
       "      <td>2</td>\n",
       "    </tr>\n",
       "    <tr>\n",
       "      <th>16</th>\n",
       "      <td>Insects</td>\n",
       "      <td>2024</td>\n",
       "      <td>2423</td>\n",
       "    </tr>\n",
       "    <tr>\n",
       "      <th>17</th>\n",
       "      <td>Mammals</td>\n",
       "      <td>2024</td>\n",
       "      <td>1354</td>\n",
       "    </tr>\n",
       "    <tr>\n",
       "      <th>18</th>\n",
       "      <td>Molluscs</td>\n",
       "      <td>2024</td>\n",
       "      <td>2456</td>\n",
       "    </tr>\n",
       "    <tr>\n",
       "      <th>19</th>\n",
       "      <td>Mosses</td>\n",
       "      <td>2024</td>\n",
       "      <td>181</td>\n",
       "    </tr>\n",
       "    <tr>\n",
       "      <th>20</th>\n",
       "      <td>Mushrooms</td>\n",
       "      <td>2024</td>\n",
       "      <td>340</td>\n",
       "    </tr>\n",
       "    <tr>\n",
       "      <th>21</th>\n",
       "      <td>Other invertebrates</td>\n",
       "      <td>2024</td>\n",
       "      <td>177</td>\n",
       "    </tr>\n",
       "    <tr>\n",
       "      <th>22</th>\n",
       "      <td>Red algae</td>\n",
       "      <td>2024</td>\n",
       "      <td>9</td>\n",
       "    </tr>\n",
       "    <tr>\n",
       "      <th>23</th>\n",
       "      <td>Reptiles</td>\n",
       "      <td>2024</td>\n",
       "      <td>1845</td>\n",
       "    </tr>\n",
       "    <tr>\n",
       "      <th>24</th>\n",
       "      <td>Total fungi</td>\n",
       "      <td>2024</td>\n",
       "      <td>346</td>\n",
       "    </tr>\n",
       "    <tr>\n",
       "      <th>25</th>\n",
       "      <td>Velvet Worms</td>\n",
       "      <td>2024</td>\n",
       "      <td>9</td>\n",
       "    </tr>\n",
       "  </tbody>\n",
       "</table>\n",
       "</div>"
      ],
      "text/plain": [
       "                 Entity  Year  Number of threatened species\n",
       "0            All groups  2024                         46337\n",
       "1     All invertebrates  2024                          6432\n",
       "2            All plants  2024                         28159\n",
       "3       All vertebrates  2024                         11400\n",
       "4            Amphibians  2024                          2873\n",
       "5             Arachnids  2024                           283\n",
       "6                 Birds  2024                          1311\n",
       "7           Brown algae  2024                             6\n",
       "8                Corals  2024                           334\n",
       "9           Crustaceans  2024                           748\n",
       "10     Ferns and allies  2024                           322\n",
       "11               Fishes  2024                          4017\n",
       "12     Flowering plants  2024                         27197\n",
       "13          Green algae  2024                             0\n",
       "14          Gymnosperms  2024                           450\n",
       "15      Horseshoe Crabs  2024                             2\n",
       "16              Insects  2024                          2423\n",
       "17              Mammals  2024                          1354\n",
       "18             Molluscs  2024                          2456\n",
       "19               Mosses  2024                           181\n",
       "20            Mushrooms  2024                           340\n",
       "21  Other invertebrates  2024                           177\n",
       "22            Red algae  2024                             9\n",
       "23             Reptiles  2024                          1845\n",
       "24          Total fungi  2024                           346\n",
       "25         Velvet Worms  2024                             9"
      ]
     },
     "execution_count": 41,
     "metadata": {},
     "output_type": "execute_result"
    }
   ],
   "source": [
    "#Only using df to print out a nicer data table\n",
    "df"
   ]
  },
  {
   "cell_type": "code",
<<<<<<< HEAD
   "execution_count": 71,
   "id": "c7111c8a-69d6-45c1-ad3e-b00854198927",
   "metadata": {},
   "outputs": [
    {
     "ename": "SyntaxError",
     "evalue": "invalid syntax (929185079.py, line 2)",
     "output_type": "error",
     "traceback": [
      "\u001b[0;36m  Cell \u001b[0;32mIn[71], line 2\u001b[0;36m\u001b[0m\n\u001b[0;31m    df = del(df['Code'])\u001b[0m\n\u001b[0m         ^\u001b[0m\n\u001b[0;31mSyntaxError\u001b[0m\u001b[0;31m:\u001b[0m invalid syntax\n"
     ]
    }
   ],
   "source": [
    "#delete the code column as it provides no value\n",
    "df = del(df['Code'])\n",
    "\n",
    "\n"
   ]
  },
  {
   "cell_type": "code",
   "execution_count": 51,
   "id": "e7fc95f3-5738-4603-9c9e-c8c0797572b6",
   "metadata": {},
   "outputs": [],
   "source": [
    "#df_clean= df.iloc[0,1,2,3] #these just sum up a lot of our data "
   ]
  },
  {
   "cell_type": "code",
   "execution_count": 52,
   "id": "b0f92c88-1fd4-4d77-97ea-f3efe132ff38",
   "metadata": {},
   "outputs": [],
   "source": [
    "#import seaborn so we can make our data visualizations\n",
    "import seaborn as sns\n"
   ]
  },
  {
   "cell_type": "code",
   "execution_count": 53,
   "id": "e8398fb1-0829-472f-81f1-dfeb17411241",
   "metadata": {},
   "outputs": [],
   "source": [
    "#histogram to show what species has the highest population out of our data holistically\n",
    "#sns.histplot(df ['Entity'])\n",
    "\n",
    "#this graph sucks\n"
   ]
  },
  {
   "cell_type": "code",
   "execution_count": 54,
   "id": "ca375de5-c358-46ef-a122-83c2af8593ff",
   "metadata": {},
   "outputs": [],
   "source": [
    "#we need to remove the first 4 columns (columns 0-3)\n",
    "#all species is just reiterating the data by giving us a sum\n",
    "\n"
   ]
  },
  {
   "cell_type": "code",
   "execution_count": 66,
   "id": "f1eaad4b-7760-40e8-8dc3-cbc04a0cc7a7",
=======
   "execution_count": 43,
   "id": "da8fc4cd-56a2-4a56-a7d5-32cc4c2f695f",
>>>>>>> e5e3a903c82e58e5007ad362ffd2650755d8800e
   "metadata": {},
   "outputs": [
    {
     "data": {
      "text/html": [
       "<div>\n",
       "<style scoped>\n",
       "    .dataframe tbody tr th:only-of-type {\n",
       "        vertical-align: middle;\n",
       "    }\n",
       "\n",
       "    .dataframe tbody tr th {\n",
       "        vertical-align: top;\n",
       "    }\n",
       "\n",
       "    .dataframe thead th {\n",
       "        text-align: right;\n",
       "    }\n",
       "</style>\n",
       "<table border=\"1\" class=\"dataframe\">\n",
       "  <thead>\n",
       "    <tr style=\"text-align: right;\">\n",
       "      <th></th>\n",
       "      <th>Entity</th>\n",
       "      <th>Year</th>\n",
       "      <th>Number of threatened species</th>\n",
       "    </tr>\n",
       "  </thead>\n",
       "  <tbody>\n",
       "    <tr>\n",
       "      <th>0</th>\n",
       "      <td>Amphibians</td>\n",
       "      <td>2024</td>\n",
       "      <td>2873</td>\n",
       "    </tr>\n",
       "    <tr>\n",
       "      <th>1</th>\n",
       "      <td>Birds</td>\n",
       "      <td>2024</td>\n",
       "      <td>1311</td>\n",
       "    </tr>\n",
       "    <tr>\n",
       "      <th>2</th>\n",
       "      <td>Corals</td>\n",
       "      <td>2024</td>\n",
       "      <td>334</td>\n",
       "    </tr>\n",
       "    <tr>\n",
       "      <th>3</th>\n",
       "      <td>Crustaceans</td>\n",
       "      <td>2024</td>\n",
       "      <td>748</td>\n",
       "    </tr>\n",
       "    <tr>\n",
       "      <th>4</th>\n",
       "      <td>Ferns and allies</td>\n",
       "      <td>2024</td>\n",
       "      <td>322</td>\n",
       "    </tr>\n",
       "    <tr>\n",
       "      <th>5</th>\n",
       "      <td>Fishes</td>\n",
       "      <td>2024</td>\n",
       "      <td>4017</td>\n",
       "    </tr>\n",
       "    <tr>\n",
       "      <th>6</th>\n",
       "      <td>Flowering plants</td>\n",
       "      <td>2024</td>\n",
       "      <td>27197</td>\n",
       "    </tr>\n",
       "    <tr>\n",
       "      <th>7</th>\n",
       "      <td>Gymnosperms</td>\n",
       "      <td>2024</td>\n",
       "      <td>450</td>\n",
       "    </tr>\n",
       "    <tr>\n",
       "      <th>8</th>\n",
       "      <td>Horseshoe Crabs</td>\n",
       "      <td>2024</td>\n",
       "      <td>2</td>\n",
       "    </tr>\n",
       "    <tr>\n",
       "      <th>9</th>\n",
       "      <td>Mammals</td>\n",
       "      <td>2024</td>\n",
       "      <td>1354</td>\n",
       "    </tr>\n",
       "    <tr>\n",
       "      <th>10</th>\n",
       "      <td>Reptiles</td>\n",
       "      <td>2024</td>\n",
       "      <td>1845</td>\n",
       "    </tr>\n",
       "  </tbody>\n",
       "</table>\n",
       "</div>"
      ],
      "text/plain": [
       "              Entity  Year  Number of threatened species\n",
       "0         Amphibians  2024                          2873\n",
       "1              Birds  2024                          1311\n",
       "2             Corals  2024                           334\n",
       "3        Crustaceans  2024                           748\n",
       "4   Ferns and allies  2024                           322\n",
       "5             Fishes  2024                          4017\n",
       "6   Flowering plants  2024                         27197\n",
       "7        Gymnosperms  2024                           450\n",
       "8    Horseshoe Crabs  2024                             2\n",
       "9            Mammals  2024                          1354\n",
       "10          Reptiles  2024                          1845"
      ]
     },
<<<<<<< HEAD
     "execution_count": 66,
=======
     "execution_count": 43,
>>>>>>> e5e3a903c82e58e5007ad362ffd2650755d8800e
     "metadata": {},
     "output_type": "execute_result"
    }
   ],
   "source": [
    "#Created another dataframe using .drop to exclude the species we won't use. \n",
    "#The clean_df prints out the new chart \n",
    "clean_df = df.drop([0,1,2,3,5,7,13,18,19,16,20,21,22,24,25])\n",
    "clean_df = clean_df.reset_index(drop = True)\n",
    "\n",
    "clean_df"
   ]
  },
  {
   "cell_type": "code",
<<<<<<< HEAD
   "execution_count": 56,
   "id": "bf2ff1d2-3388-4620-9138-292c34040beb",
   "metadata": {},
   "outputs": [
    {
     "data": {
      "text/html": [
       "<div>\n",
       "<style scoped>\n",
       "    .dataframe tbody tr th:only-of-type {\n",
       "        vertical-align: middle;\n",
       "    }\n",
       "\n",
       "    .dataframe tbody tr th {\n",
       "        vertical-align: top;\n",
       "    }\n",
       "\n",
       "    .dataframe thead th {\n",
       "        text-align: right;\n",
       "    }\n",
       "</style>\n",
       "<table border=\"1\" class=\"dataframe\">\n",
       "  <thead>\n",
       "    <tr style=\"text-align: right;\">\n",
       "      <th></th>\n",
       "      <th>Entity</th>\n",
       "      <th>Year</th>\n",
       "      <th>Number of threatened species</th>\n",
       "    </tr>\n",
       "  </thead>\n",
       "  <tbody>\n",
       "    <tr>\n",
       "      <th>0</th>\n",
       "      <td>Amphibians</td>\n",
       "      <td>2024</td>\n",
       "      <td>2873</td>\n",
       "    </tr>\n",
       "    <tr>\n",
       "      <th>1</th>\n",
       "      <td>Corals</td>\n",
       "      <td>2024</td>\n",
       "      <td>334</td>\n",
       "    </tr>\n",
       "    <tr>\n",
       "      <th>2</th>\n",
       "      <td>Crustaceans</td>\n",
       "      <td>2024</td>\n",
       "      <td>748</td>\n",
       "    </tr>\n",
       "    <tr>\n",
       "      <th>3</th>\n",
       "      <td>Horseshoe Crabs</td>\n",
       "      <td>2024</td>\n",
       "      <td>2</td>\n",
       "    </tr>\n",
       "  </tbody>\n",
       "</table>\n",
       "</div>"
      ],
      "text/plain": [
       "            Entity  Year  Number of threatened species\n",
       "0       Amphibians  2024                          2873\n",
       "1           Corals  2024                           334\n",
       "2      Crustaceans  2024                           748\n",
       "3  Horseshoe Crabs  2024                             2"
      ]
     },
     "execution_count": 56,
     "metadata": {},
     "output_type": "execute_result"
    }
   ],
=======
   "execution_count": 45,
   "id": "719150d5-5a90-48a1-bd01-dc096e3b271c",
   "metadata": {},
   "outputs": [],
>>>>>>> e5e3a903c82e58e5007ad362ffd2650755d8800e
   "source": [
    "#importing seaborn will allow us to plot our data\n",
    "import seaborn as sns"
   ]
  },
  {
   "cell_type": "code",
<<<<<<< HEAD
   "execution_count": 57,
   "id": "015f2553-2106-4fd9-9a72-fa48b6d421f8",
   "metadata": {},
=======
   "execution_count": 47,
   "id": "529f8819-e5ab-4398-8be3-a5e0239a3328",
   "metadata": {
    "scrolled": true
   },
>>>>>>> e5e3a903c82e58e5007ad362ffd2650755d8800e
   "outputs": [
    {
     "data": {
      "text/html": [
       "<div>\n",
       "<style scoped>\n",
       "    .dataframe tbody tr th:only-of-type {\n",
       "        vertical-align: middle;\n",
       "    }\n",
       "\n",
       "    .dataframe tbody tr th {\n",
       "        vertical-align: top;\n",
       "    }\n",
       "\n",
       "    .dataframe thead th {\n",
       "        text-align: right;\n",
       "    }\n",
       "</style>\n",
       "<table border=\"1\" class=\"dataframe\">\n",
       "  <thead>\n",
       "    <tr style=\"text-align: right;\">\n",
       "      <th></th>\n",
       "      <th>Entity</th>\n",
       "      <th>Year</th>\n",
       "      <th>Number of threatened species</th>\n",
       "    </tr>\n",
       "  </thead>\n",
       "  <tbody>\n",
       "    <tr>\n",
       "      <th>0</th>\n",
       "      <td>Ferns and allies</td>\n",
       "      <td>2024</td>\n",
       "      <td>322</td>\n",
       "    </tr>\n",
       "    <tr>\n",
       "      <th>1</th>\n",
       "      <td>Flowering plants</td>\n",
       "      <td>2024</td>\n",
       "      <td>27197</td>\n",
       "    </tr>\n",
       "    <tr>\n",
       "      <th>2</th>\n",
       "      <td>Gymnosperms</td>\n",
       "      <td>2024</td>\n",
       "      <td>450</td>\n",
       "    </tr>\n",
       "  </tbody>\n",
       "</table>\n",
       "</div>"
      ],
      "text/plain": [
       "             Entity  Year  Number of threatened species\n",
       "0  Ferns and allies  2024                           322\n",
       "1  Flowering plants  2024                         27197\n",
       "2       Gymnosperms  2024                           450"
      ]
     },
<<<<<<< HEAD
     "execution_count": 57,
=======
     "execution_count": 47,
>>>>>>> e5e3a903c82e58e5007ad362ffd2650755d8800e
     "metadata": {},
     "output_type": "execute_result"
    }
   ],
   "source": [
    "#Created a plants_df only using plant species.\n",
    "plants_df = clean_df.drop([0,1,2,3,5,8,9,10])\n",
    "plants_df = plants_df.reset_index(drop = True)\n",
    "\n",
    "plants_df"
   ]
  },
  {
   "cell_type": "code",
<<<<<<< HEAD
   "execution_count": 58,
   "id": "84876530-6114-451f-ae6c-dd5f6c1044da",
   "metadata": {},
   "outputs": [],
   "source": [
    "#clean_df - used to check my data for cleaning"
   ]
  },
  {
   "cell_type": "code",
   "execution_count": 59,
   "id": "f1401a39-1f41-4064-83e2-b35319af13b3",
=======
   "execution_count": 51,
   "id": "bb539b53-87d6-444a-8889-e91e9fbe3c49",
>>>>>>> e5e3a903c82e58e5007ad362ffd2650755d8800e
   "metadata": {},
   "outputs": [
    {
     "data": {
      "text/html": [
       "<div>\n",
       "<style scoped>\n",
       "    .dataframe tbody tr th:only-of-type {\n",
       "        vertical-align: middle;\n",
       "    }\n",
       "\n",
       "    .dataframe tbody tr th {\n",
       "        vertical-align: top;\n",
       "    }\n",
       "\n",
       "    .dataframe thead th {\n",
       "        text-align: right;\n",
       "    }\n",
       "</style>\n",
       "<table border=\"1\" class=\"dataframe\">\n",
       "  <thead>\n",
       "    <tr style=\"text-align: right;\">\n",
       "      <th></th>\n",
       "      <th>Entity</th>\n",
       "      <th>Year</th>\n",
       "      <th>Number of threatened species</th>\n",
       "    </tr>\n",
       "  </thead>\n",
       "  <tbody>\n",
       "    <tr>\n",
       "      <th>0</th>\n",
       "      <td>Amphibians</td>\n",
       "      <td>2024</td>\n",
       "      <td>2873</td>\n",
       "    </tr>\n",
       "    <tr>\n",
       "      <th>1</th>\n",
       "      <td>Birds</td>\n",
       "      <td>2024</td>\n",
       "      <td>1311</td>\n",
       "    </tr>\n",
       "    <tr>\n",
       "      <th>2</th>\n",
<<<<<<< HEAD
       "      <td>Corals</td>\n",
       "      <td>2024</td>\n",
       "      <td>334</td>\n",
       "    </tr>\n",
       "    <tr>\n",
       "      <th>3</th>\n",
=======
>>>>>>> e5e3a903c82e58e5007ad362ffd2650755d8800e
       "      <td>Mammals</td>\n",
       "      <td>2024</td>\n",
       "      <td>1354</td>\n",
       "    </tr>\n",
       "    <tr>\n",
       "      <th>3</th>\n",
       "      <td>Reptiles</td>\n",
       "      <td>2024</td>\n",
       "      <td>1845</td>\n",
       "    </tr>\n",
       "  </tbody>\n",
       "</table>\n",
       "</div>"
      ],
      "text/plain": [
       "       Entity  Year  Number of threatened species\n",
       "0  Amphibians  2024                          2873\n",
       "1       Birds  2024                          1311\n",
<<<<<<< HEAD
       "2      Corals  2024                           334\n",
       "3     Mammals  2024                          1354\n",
       "4    Reptiles  2024                          1845"
      ]
     },
     "execution_count": 59,
=======
       "2     Mammals  2024                          1354\n",
       "3    Reptiles  2024                          1845"
      ]
     },
     "execution_count": 51,
>>>>>>> e5e3a903c82e58e5007ad362ffd2650755d8800e
     "metadata": {},
     "output_type": "execute_result"
    }
   ],
   "source": [
    "#The terrestrial_df will print only the terrestrial species.\n",
    "terrestrial_df = clean_df.drop([2,3,4,5,6,7,8])\n",
    "terrestrial_df = terrestrial_df.reset_index(drop = True)\n",
    "\n",
    "terrestrial_df"
   ]
  },
  {
   "cell_type": "code",
   "execution_count": 215,
   "id": "7c67c39d-b8f4-4437-bdd1-8882cdf35333",
   "metadata": {},
   "outputs": [
    {
     "data": {
      "text/html": [
       "<div>\n",
       "<style scoped>\n",
       "    .dataframe tbody tr th:only-of-type {\n",
       "        vertical-align: middle;\n",
       "    }\n",
       "\n",
       "    .dataframe tbody tr th {\n",
       "        vertical-align: top;\n",
       "    }\n",
       "\n",
       "    .dataframe thead th {\n",
       "        text-align: right;\n",
       "    }\n",
       "</style>\n",
       "<table border=\"1\" class=\"dataframe\">\n",
       "  <thead>\n",
       "    <tr style=\"text-align: right;\">\n",
       "      <th></th>\n",
       "      <th>Entity</th>\n",
       "      <th>Year</th>\n",
       "      <th>Number of threatened species</th>\n",
       "    </tr>\n",
       "  </thead>\n",
       "  <tbody>\n",
       "    <tr>\n",
       "      <th>0</th>\n",
       "      <td>Amphibians</td>\n",
       "      <td>2024</td>\n",
       "      <td>2873</td>\n",
       "    </tr>\n",
       "    <tr>\n",
       "      <th>1</th>\n",
       "      <td>Corals</td>\n",
       "      <td>2024</td>\n",
       "      <td>334</td>\n",
       "    </tr>\n",
       "    <tr>\n",
       "      <th>2</th>\n",
       "      <td>Crustaceans</td>\n",
       "      <td>2024</td>\n",
       "      <td>748</td>\n",
       "    </tr>\n",
       "    <tr>\n",
       "      <th>3</th>\n",
       "      <td>Fishes</td>\n",
       "      <td>2024</td>\n",
       "      <td>4017</td>\n",
       "    </tr>\n",
       "    <tr>\n",
       "      <th>4</th>\n",
       "      <td>Horseshoe Crabs</td>\n",
       "      <td>2024</td>\n",
       "      <td>2</td>\n",
       "    </tr>\n",
       "    <tr>\n",
       "      <th>5</th>\n",
       "      <td>Reptiles</td>\n",
       "      <td>2024</td>\n",
       "      <td>1845</td>\n",
       "    </tr>\n",
       "  </tbody>\n",
       "</table>\n",
       "</div>"
      ],
      "text/plain": [
       "            Entity  Year  Number of threatened species\n",
       "0       Amphibians  2024                          2873\n",
       "1           Corals  2024                           334\n",
       "2      Crustaceans  2024                           748\n",
       "3           Fishes  2024                          4017\n",
       "4  Horseshoe Crabs  2024                             2\n",
       "5         Reptiles  2024                          1845"
      ]
     },
     "execution_count": 215,
     "metadata": {},
     "output_type": "execute_result"
    }
   ],
   "source": [
    "#The aquatic_df will print the aquatic and semi-aquatic creatures \n",
    "aquatic_df = clean_df.drop([1,4,6,7,9])\n",
    "aquatic_df = aquatic_df.reset_index(drop = True)\n",
    "\n",
    "aquatic_df"
   ]
  },
  {
   "cell_type": "code",
   "execution_count": 123,
   "id": "ec767f33-02db-4dc1-9797-5fd61bad40ff",
   "metadata": {},
   "outputs": [
    {
     "data": {
      "text/plain": [
       "27969"
      ]
     },
     "execution_count": 123,
     "metadata": {},
     "output_type": "execute_result"
    }
   ],
   "source": [
    "#Created a combined dataset that totals the threatened plant species\n",
    "plants_sum = sum(plants_df['Number of threatened species'])\n",
    "plants_sum"
   ]
  },
  {
   "cell_type": "code",
   "execution_count": 117,
   "id": "b6266caf-a070-40a9-b6c7-8da5bf4bf69f",
   "metadata": {},
   "outputs": [
    {
     "data": {
      "text/plain": [
       "7383"
      ]
     },
     "execution_count": 117,
     "metadata": {},
     "output_type": "execute_result"
    }
   ],
   "source": [
    "#Created a combined dataset that totals the threatened terrestrial species\n",
    "terrestrial_sum = sum(terrestrial_df['Number of threatened species'])\n",
    "terrestrial_sum"
   ]
  },
  {
   "cell_type": "code",
   "execution_count": 107,
   "id": "a7b56935-54dc-4f10-bcb9-211bfd2809d1",
   "metadata": {},
   "outputs": [
    {
     "data": {
      "text/plain": [
       "9819"
      ]
     },
     "execution_count": 107,
     "metadata": {},
     "output_type": "execute_result"
    }
   ],
   "source": [
    "#Created a combined dataset that totals the aquatic plant species\n",
    "aquatic_sum = sum(aquatic_df['Number of threatened species'])\n",
    "aquatic_sum"
   ]
  },
  {
   "cell_type": "code",
   "execution_count": 217,
   "id": "1ff23ca8-c09e-4ff7-8f41-e34b65b6ed1d",
   "metadata": {},
   "outputs": [
    {
     "data": {
      "text/html": [
       "<div>\n",
       "<style scoped>\n",
       "    .dataframe tbody tr th:only-of-type {\n",
       "        vertical-align: middle;\n",
       "    }\n",
       "\n",
       "    .dataframe tbody tr th {\n",
       "        vertical-align: top;\n",
       "    }\n",
       "\n",
       "    .dataframe thead th {\n",
       "        text-align: right;\n",
       "    }\n",
       "</style>\n",
       "<table border=\"1\" class=\"dataframe\">\n",
       "  <thead>\n",
       "    <tr style=\"text-align: right;\">\n",
       "      <th></th>\n",
       "      <th>Entity Type</th>\n",
       "      <th>Quantity</th>\n",
       "    </tr>\n",
       "  </thead>\n",
       "  <tbody>\n",
       "    <tr>\n",
       "      <th>0</th>\n",
       "      <td>Aquatic</td>\n",
       "      <td>9819</td>\n",
       "    </tr>\n",
       "    <tr>\n",
       "      <th>1</th>\n",
       "      <td>Terrestrial</td>\n",
       "      <td>7383</td>\n",
       "    </tr>\n",
       "    <tr>\n",
       "      <th>2</th>\n",
       "      <td>Plants</td>\n",
       "      <td>27969</td>\n",
       "    </tr>\n",
       "  </tbody>\n",
       "</table>\n",
       "</div>"
      ],
      "text/plain": [
       "   Entity Type  Quantity\n",
       "0      Aquatic      9819\n",
       "1  Terrestrial      7383\n",
       "2       Plants     27969"
      ]
     },
     "execution_count": 217,
     "metadata": {},
     "output_type": "execute_result"
    }
   ],
   "source": [
    "#Made new column names \n",
    "column_names = ['Entity Type','Quantity']\n",
    "#Created a dictionary with the totaled dataframes. \n",
    "data = {}\n",
    "data['Entity Type'] = ['Aquatic', 'Terrestrial', 'Plants']  \n",
    "data['Quantity'] = [aquatic_sum, terrestrial_sum, plants_sum] \n",
    "summary_df = pd.DataFrame(data, columns=column_names)\n",
    "summary_df"
   ]
  },
  {
   "cell_type": "code",
   "execution_count": 219,
   "id": "4b43e744-f91c-4c58-ab5b-39b70a4de6e7",
   "metadata": {},
   "outputs": [],
   "source": [
    "#Importing matplotlib.pyplot to help us get a better pie chart with more features.\n",
    "import matplotlib.pyplot as plt"
   ]
  },
  {
   "cell_type": "code",
   "execution_count": 213,
   "id": "dd069c12-9541-48b7-ade3-2b3517b09fac",
   "metadata": {},
   "outputs": [
    {
     "data": {
      "image/png": "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",
      "text/plain": [
       "<Figure size 640x480 with 1 Axes>"
      ]
     },
     "metadata": {},
     "output_type": "display_data"
    }
   ],
   "source": [
    "#Made a summary_df pie chart from matplot with the quantities converted to percentages. Also, customized the colors in the pie chart. \n",
    "label_counts = summary_df['Quantity']\n",
    "plt.pie(label_counts,\n",
    "        labels = summary_df['Entity Type'],\n",
    "        autopct = '%1.1f%%',\n",
    "        colors = ['aqua','limegreen','lightgreen'],\n",
    "       )\n",
    "plt.show()"
   ]
  },
  {
   "cell_type": "code",
<<<<<<< HEAD
   "execution_count": 60,
   "id": "fc5236b7-8c66-454b-a030-0860c41d417a",
   "metadata": {},
   "outputs": [],
   "source": [
    "#story:\n",
    "\n",
    "#discovering what types of species are most endagered, and then looking into other sources for\n",
    "#indications as to why certain species/ populations are more endagered than others.\n",
    "\n",
    "#discuss findings\n",
    "\n",
    "#find sources that give more insight for our trends\n",
    "\n",
    "### analyze the data first and then find sources that can get "
   ]
  },
  {
   "cell_type": "code",
   "execution_count": 61,
   "id": "1702a099-bb20-40df-ab27-11c3a5664eaa",
   "metadata": {},
   "outputs": [],
   "source": [
    "#DATA VISUALISATIONS:\n"
   ]
  },
  {
   "cell_type": "code",
   "execution_count": 67,
   "id": "fc9fa233-2234-41cd-a967-7e7178d1d26e",
   "metadata": {},
   "outputs": [],
   "source": [
    "import seaborn as sns"
   ]
  },
  {
   "cell_type": "code",
   "execution_count": null,
   "id": "c55ec009-e882-4219-b1b4-0ee9ed2d270d",
   "metadata": {},
   "outputs": [],
=======
   "execution_count": null,
   "id": "f893d2ba-5d76-4968-a950-06981951b227",
   "metadata": {},
   "outputs": [],
>>>>>>> e5e3a903c82e58e5007ad362ffd2650755d8800e
   "source": []
  }
 ],
 "metadata": {
  "kernelspec": {
   "display_name": "Python 3 (ipykernel)",
   "language": "python",
   "name": "python3"
  },
  "language_info": {
   "codemirror_mode": {
    "name": "ipython",
    "version": 3
   },
   "file_extension": ".py",
   "mimetype": "text/x-python",
   "name": "python",
   "nbconvert_exporter": "python",
   "pygments_lexer": "ipython3",
   "version": "3.12.4"
  }
 },
 "nbformat": 4,
 "nbformat_minor": 5
}

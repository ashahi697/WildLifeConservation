{
 "cells": [
  {
   "cell_type": "code",
   "execution_count": 1,
   "id": "9514c307-8d56-45d6-9fcd-a3bfe5dd23b8",
   "metadata": {},
   "outputs": [],
   "source": [
    "#import data\n",
    "\n",
    "import json\n",
    "\n",
    "file= open(\"number-species-threatened/number-species-threatened.metadata.json\", 'r')\n",
    "\n",
    "data = json.loads(file.read())\n",
    "           "
   ]
  },
  {
   "cell_type": "code",
   "execution_count": null,
   "id": "9e896d18-2029-4852-b042-132075821db9",
   "metadata": {},
   "outputs": [],
   "source": []
  },
  {
   "cell_type": "code",
   "execution_count": null,
   "id": "14d07ca8-7cd4-4ae0-a867-9dc19467b5d2",
   "metadata": {},
   "outputs": [],
   "source": []
  }
 ],
 "metadata": {
  "kernelspec": {
   "display_name": "Python 3 (ipykernel)",
   "language": "python",
   "name": "python3"
  },
  "language_info": {
   "codemirror_mode": {
    "name": "ipython",
    "version": 3
   },
   "file_extension": ".py",
   "mimetype": "text/x-python",
   "name": "python",
   "nbconvert_exporter": "python",
   "pygments_lexer": "ipython3",
   "version": "3.12.4"
  }
 },
 "nbformat": 4,
 "nbformat_minor": 5
}

{
 "cells": [
  {
   "cell_type": "code",
   "execution_count": 37,
   "id": "9514c307-8d56-45d6-9fcd-a3bfe5dd23b8",
   "metadata": {},
   "outputs": [
    {
     "name": "stdout",
     "output_type": "stream",
     "text": [
      "                 Entity  Code  Year  Number of threatened species\n",
      "0            All groups   NaN  2024                         46337\n",
      "1     All invertebrates   NaN  2024                          6432\n",
      "2            All plants   NaN  2024                         28159\n",
      "3       All vertebrates   NaN  2024                         11400\n",
      "4            Amphibians   NaN  2024                          2873\n",
      "5             Arachnids   NaN  2024                           283\n",
      "6                 Birds   NaN  2024                          1311\n",
      "7           Brown algae   NaN  2024                             6\n",
      "8                Corals   NaN  2024                           334\n",
      "9           Crustaceans   NaN  2024                           748\n",
      "10     Ferns and allies   NaN  2024                           322\n",
      "11               Fishes   NaN  2024                          4017\n",
      "12     Flowering plants   NaN  2024                         27197\n",
      "13          Green algae   NaN  2024                             0\n",
      "14          Gymnosperms   NaN  2024                           450\n",
      "15      Horseshoe Crabs   NaN  2024                             2\n",
      "16              Insects   NaN  2024                          2423\n",
      "17              Mammals   NaN  2024                          1354\n",
      "18             Molluscs   NaN  2024                          2456\n",
      "19               Mosses   NaN  2024                           181\n",
      "20            Mushrooms   NaN  2024                           340\n",
      "21  Other invertebrates   NaN  2024                           177\n",
      "22            Red algae   NaN  2024                             9\n",
      "23             Reptiles   NaN  2024                          1845\n",
      "24          Total fungi   NaN  2024                           346\n",
      "25         Velvet Worms   NaN  2024                             9\n"
     ]
    }
   ],
   "source": [
    "#import pandas\n",
    "import pandas as pd\n",
    "#Opening and reading the csv\n",
    "df = pd.read_csv('number-species-threatened/number-species-threatened.csv')\n",
    "\n",
    "print(df)"
   ]
  },
  {
   "cell_type": "code",
   "execution_count": 39,
   "id": "9e896d18-2029-4852-b042-132075821db9",
   "metadata": {},
   "outputs": [],
   "source": [
    "#Cleaning the data and deleting the 'Code NaN' column \n",
    "del df['Code']"
   ]
  },
  {
   "cell_type": "code",
   "execution_count": 41,
   "id": "db25f7dd-9f7d-449b-9958-b060569eba60",
   "metadata": {},
   "outputs": [
    {
     "data": {
      "text/html": [
       "<div>\n",
       "<style scoped>\n",
       "    .dataframe tbody tr th:only-of-type {\n",
       "        vertical-align: middle;\n",
       "    }\n",
       "\n",
       "    .dataframe tbody tr th {\n",
       "        vertical-align: top;\n",
       "    }\n",
       "\n",
       "    .dataframe thead th {\n",
       "        text-align: right;\n",
       "    }\n",
       "</style>\n",
       "<table border=\"1\" class=\"dataframe\">\n",
       "  <thead>\n",
       "    <tr style=\"text-align: right;\">\n",
       "      <th></th>\n",
       "      <th>Entity</th>\n",
       "      <th>Year</th>\n",
       "      <th>Number of threatened species</th>\n",
       "    </tr>\n",
       "  </thead>\n",
       "  <tbody>\n",
       "    <tr>\n",
       "      <th>0</th>\n",
       "      <td>All groups</td>\n",
       "      <td>2024</td>\n",
       "      <td>46337</td>\n",
       "    </tr>\n",
       "    <tr>\n",
       "      <th>1</th>\n",
       "      <td>All invertebrates</td>\n",
       "      <td>2024</td>\n",
       "      <td>6432</td>\n",
       "    </tr>\n",
       "    <tr>\n",
       "      <th>2</th>\n",
       "      <td>All plants</td>\n",
       "      <td>2024</td>\n",
       "      <td>28159</td>\n",
       "    </tr>\n",
       "    <tr>\n",
       "      <th>3</th>\n",
       "      <td>All vertebrates</td>\n",
       "      <td>2024</td>\n",
       "      <td>11400</td>\n",
       "    </tr>\n",
       "    <tr>\n",
       "      <th>4</th>\n",
       "      <td>Amphibians</td>\n",
       "      <td>2024</td>\n",
       "      <td>2873</td>\n",
       "    </tr>\n",
       "    <tr>\n",
       "      <th>5</th>\n",
       "      <td>Arachnids</td>\n",
       "      <td>2024</td>\n",
       "      <td>283</td>\n",
       "    </tr>\n",
       "    <tr>\n",
       "      <th>6</th>\n",
       "      <td>Birds</td>\n",
       "      <td>2024</td>\n",
       "      <td>1311</td>\n",
       "    </tr>\n",
       "    <tr>\n",
       "      <th>7</th>\n",
       "      <td>Brown algae</td>\n",
       "      <td>2024</td>\n",
       "      <td>6</td>\n",
       "    </tr>\n",
       "    <tr>\n",
       "      <th>8</th>\n",
       "      <td>Corals</td>\n",
       "      <td>2024</td>\n",
       "      <td>334</td>\n",
       "    </tr>\n",
       "    <tr>\n",
       "      <th>9</th>\n",
       "      <td>Crustaceans</td>\n",
       "      <td>2024</td>\n",
       "      <td>748</td>\n",
       "    </tr>\n",
       "    <tr>\n",
       "      <th>10</th>\n",
       "      <td>Ferns and allies</td>\n",
       "      <td>2024</td>\n",
       "      <td>322</td>\n",
       "    </tr>\n",
       "    <tr>\n",
       "      <th>11</th>\n",
       "      <td>Fishes</td>\n",
       "      <td>2024</td>\n",
       "      <td>4017</td>\n",
       "    </tr>\n",
       "    <tr>\n",
       "      <th>12</th>\n",
       "      <td>Flowering plants</td>\n",
       "      <td>2024</td>\n",
       "      <td>27197</td>\n",
       "    </tr>\n",
       "    <tr>\n",
       "      <th>13</th>\n",
       "      <td>Green algae</td>\n",
       "      <td>2024</td>\n",
       "      <td>0</td>\n",
       "    </tr>\n",
       "    <tr>\n",
       "      <th>14</th>\n",
       "      <td>Gymnosperms</td>\n",
       "      <td>2024</td>\n",
       "      <td>450</td>\n",
       "    </tr>\n",
       "    <tr>\n",
       "      <th>15</th>\n",
       "      <td>Horseshoe Crabs</td>\n",
       "      <td>2024</td>\n",
       "      <td>2</td>\n",
       "    </tr>\n",
       "    <tr>\n",
       "      <th>16</th>\n",
       "      <td>Insects</td>\n",
       "      <td>2024</td>\n",
       "      <td>2423</td>\n",
       "    </tr>\n",
       "    <tr>\n",
       "      <th>17</th>\n",
       "      <td>Mammals</td>\n",
       "      <td>2024</td>\n",
       "      <td>1354</td>\n",
       "    </tr>\n",
       "    <tr>\n",
       "      <th>18</th>\n",
       "      <td>Molluscs</td>\n",
       "      <td>2024</td>\n",
       "      <td>2456</td>\n",
       "    </tr>\n",
       "    <tr>\n",
       "      <th>19</th>\n",
       "      <td>Mosses</td>\n",
       "      <td>2024</td>\n",
       "      <td>181</td>\n",
       "    </tr>\n",
       "    <tr>\n",
       "      <th>20</th>\n",
       "      <td>Mushrooms</td>\n",
       "      <td>2024</td>\n",
       "      <td>340</td>\n",
       "    </tr>\n",
       "    <tr>\n",
       "      <th>21</th>\n",
       "      <td>Other invertebrates</td>\n",
       "      <td>2024</td>\n",
       "      <td>177</td>\n",
       "    </tr>\n",
       "    <tr>\n",
       "      <th>22</th>\n",
       "      <td>Red algae</td>\n",
       "      <td>2024</td>\n",
       "      <td>9</td>\n",
       "    </tr>\n",
       "    <tr>\n",
       "      <th>23</th>\n",
       "      <td>Reptiles</td>\n",
       "      <td>2024</td>\n",
       "      <td>1845</td>\n",
       "    </tr>\n",
       "    <tr>\n",
       "      <th>24</th>\n",
       "      <td>Total fungi</td>\n",
       "      <td>2024</td>\n",
       "      <td>346</td>\n",
       "    </tr>\n",
       "    <tr>\n",
       "      <th>25</th>\n",
       "      <td>Velvet Worms</td>\n",
       "      <td>2024</td>\n",
       "      <td>9</td>\n",
       "    </tr>\n",
       "  </tbody>\n",
       "</table>\n",
       "</div>"
      ],
      "text/plain": [
       "                 Entity  Year  Number of threatened species\n",
       "0            All groups  2024                         46337\n",
       "1     All invertebrates  2024                          6432\n",
       "2            All plants  2024                         28159\n",
       "3       All vertebrates  2024                         11400\n",
       "4            Amphibians  2024                          2873\n",
       "5             Arachnids  2024                           283\n",
       "6                 Birds  2024                          1311\n",
       "7           Brown algae  2024                             6\n",
       "8                Corals  2024                           334\n",
       "9           Crustaceans  2024                           748\n",
       "10     Ferns and allies  2024                           322\n",
       "11               Fishes  2024                          4017\n",
       "12     Flowering plants  2024                         27197\n",
       "13          Green algae  2024                             0\n",
       "14          Gymnosperms  2024                           450\n",
       "15      Horseshoe Crabs  2024                             2\n",
       "16              Insects  2024                          2423\n",
       "17              Mammals  2024                          1354\n",
       "18             Molluscs  2024                          2456\n",
       "19               Mosses  2024                           181\n",
       "20            Mushrooms  2024                           340\n",
       "21  Other invertebrates  2024                           177\n",
       "22            Red algae  2024                             9\n",
       "23             Reptiles  2024                          1845\n",
       "24          Total fungi  2024                           346\n",
       "25         Velvet Worms  2024                             9"
      ]
     },
     "execution_count": 41,
     "metadata": {},
     "output_type": "execute_result"
    }
   ],
   "source": [
    "#Only using df to print out a nicer data table\n",
    "df"
   ]
  },
  {
   "cell_type": "code",
   "execution_count": 43,
   "id": "da8fc4cd-56a2-4a56-a7d5-32cc4c2f695f",
   "metadata": {},
   "outputs": [
    {
     "data": {
      "text/html": [
       "<div>\n",
       "<style scoped>\n",
       "    .dataframe tbody tr th:only-of-type {\n",
       "        vertical-align: middle;\n",
       "    }\n",
       "\n",
       "    .dataframe tbody tr th {\n",
       "        vertical-align: top;\n",
       "    }\n",
       "\n",
       "    .dataframe thead th {\n",
       "        text-align: right;\n",
       "    }\n",
       "</style>\n",
       "<table border=\"1\" class=\"dataframe\">\n",
       "  <thead>\n",
       "    <tr style=\"text-align: right;\">\n",
       "      <th></th>\n",
       "      <th>Entity</th>\n",
       "      <th>Year</th>\n",
       "      <th>Number of threatened species</th>\n",
       "    </tr>\n",
       "  </thead>\n",
       "  <tbody>\n",
       "    <tr>\n",
       "      <th>0</th>\n",
       "      <td>Amphibians</td>\n",
       "      <td>2024</td>\n",
       "      <td>2873</td>\n",
       "    </tr>\n",
       "    <tr>\n",
       "      <th>1</th>\n",
       "      <td>Birds</td>\n",
       "      <td>2024</td>\n",
       "      <td>1311</td>\n",
       "    </tr>\n",
       "    <tr>\n",
       "      <th>2</th>\n",
       "      <td>Corals</td>\n",
       "      <td>2024</td>\n",
       "      <td>334</td>\n",
       "    </tr>\n",
       "    <tr>\n",
       "      <th>3</th>\n",
       "      <td>Crustaceans</td>\n",
       "      <td>2024</td>\n",
       "      <td>748</td>\n",
       "    </tr>\n",
       "    <tr>\n",
       "      <th>4</th>\n",
       "      <td>Ferns and allies</td>\n",
       "      <td>2024</td>\n",
       "      <td>322</td>\n",
       "    </tr>\n",
       "    <tr>\n",
       "      <th>5</th>\n",
       "      <td>Fishes</td>\n",
       "      <td>2024</td>\n",
       "      <td>4017</td>\n",
       "    </tr>\n",
       "    <tr>\n",
       "      <th>6</th>\n",
       "      <td>Flowering plants</td>\n",
       "      <td>2024</td>\n",
       "      <td>27197</td>\n",
       "    </tr>\n",
       "    <tr>\n",
       "      <th>7</th>\n",
       "      <td>Gymnosperms</td>\n",
       "      <td>2024</td>\n",
       "      <td>450</td>\n",
       "    </tr>\n",
       "    <tr>\n",
       "      <th>8</th>\n",
       "      <td>Horseshoe Crabs</td>\n",
       "      <td>2024</td>\n",
       "      <td>2</td>\n",
       "    </tr>\n",
       "    <tr>\n",
       "      <th>9</th>\n",
       "      <td>Mammals</td>\n",
       "      <td>2024</td>\n",
       "      <td>1354</td>\n",
       "    </tr>\n",
       "    <tr>\n",
       "      <th>10</th>\n",
       "      <td>Reptiles</td>\n",
       "      <td>2024</td>\n",
       "      <td>1845</td>\n",
       "    </tr>\n",
       "  </tbody>\n",
       "</table>\n",
       "</div>"
      ],
      "text/plain": [
       "              Entity  Year  Number of threatened species\n",
       "0         Amphibians  2024                          2873\n",
       "1              Birds  2024                          1311\n",
       "2             Corals  2024                           334\n",
       "3        Crustaceans  2024                           748\n",
       "4   Ferns and allies  2024                           322\n",
       "5             Fishes  2024                          4017\n",
       "6   Flowering plants  2024                         27197\n",
       "7        Gymnosperms  2024                           450\n",
       "8    Horseshoe Crabs  2024                             2\n",
       "9            Mammals  2024                          1354\n",
       "10          Reptiles  2024                          1845"
      ]
     },
     "execution_count": 43,
     "metadata": {},
     "output_type": "execute_result"
    }
   ],
   "source": [
    "#Created another dataframe using .drop to exclude the species we won't use. \n",
    "#The clean_df prints out the new chart \n",
    "clean_df = df.drop([0,1,2,3,5,7,13,18,19,16,20,21,22,24,25])\n",
    "clean_df = clean_df.reset_index(drop = True)\n",
    "\n",
    "clean_df"
   ]
  },
  {
   "cell_type": "code",
   "execution_count": null,
   "id": "9023b3df-f058-4058-97c9-99f20b8a2517",
   "metadata": {},
   "outputs": [],
   "source": [
    "import matplotlib.pyplot as plt"
   ]
  },
  {
   "cell_type": "code",
   "execution_count": 103,
   "id": "9614acda-420d-42b7-953a-01027b3951c2",
   "metadata": {},
   "outputs": [],
   "source": []
  },
  {
   "cell_type": "code",
   "execution_count": 45,
   "id": "719150d5-5a90-48a1-bd01-dc096e3b271c",
   "metadata": {},
   "outputs": [],
   "source": [
    "#importing seaborn will allow us to plot our data\n",
    "import seaborn as sns"
   ]
  },
  {
   "cell_type": "code",
   "execution_count": 47,
   "id": "529f8819-e5ab-4398-8be3-a5e0239a3328",
   "metadata": {
    "scrolled": true
   },
   "outputs": [
    {
     "data": {
      "text/html": [
       "<div>\n",
       "<style scoped>\n",
       "    .dataframe tbody tr th:only-of-type {\n",
       "        vertical-align: middle;\n",
       "    }\n",
       "\n",
       "    .dataframe tbody tr th {\n",
       "        vertical-align: top;\n",
       "    }\n",
       "\n",
       "    .dataframe thead th {\n",
       "        text-align: right;\n",
       "    }\n",
       "</style>\n",
       "<table border=\"1\" class=\"dataframe\">\n",
       "  <thead>\n",
       "    <tr style=\"text-align: right;\">\n",
       "      <th></th>\n",
       "      <th>Entity</th>\n",
       "      <th>Year</th>\n",
       "      <th>Number of threatened species</th>\n",
       "    </tr>\n",
       "  </thead>\n",
       "  <tbody>\n",
       "    <tr>\n",
       "      <th>0</th>\n",
       "      <td>Ferns and allies</td>\n",
       "      <td>2024</td>\n",
       "      <td>322</td>\n",
       "    </tr>\n",
       "    <tr>\n",
       "      <th>1</th>\n",
       "      <td>Flowering plants</td>\n",
       "      <td>2024</td>\n",
       "      <td>27197</td>\n",
       "    </tr>\n",
       "    <tr>\n",
       "      <th>2</th>\n",
       "      <td>Gymnosperms</td>\n",
       "      <td>2024</td>\n",
       "      <td>450</td>\n",
       "    </tr>\n",
       "  </tbody>\n",
       "</table>\n",
       "</div>"
      ],
      "text/plain": [
       "             Entity  Year  Number of threatened species\n",
       "0  Ferns and allies  2024                           322\n",
       "1  Flowering plants  2024                         27197\n",
       "2       Gymnosperms  2024                           450"
      ]
     },
     "execution_count": 47,
     "metadata": {},
     "output_type": "execute_result"
    }
   ],
   "source": [
    "#Created a plants_df only using plant species.\n",
    "plants_df = clean_df.drop([0,1,2,3,5,8,9,10])\n",
    "plants_df = plants_df.reset_index(drop = True)\n",
    "\n",
    "plants_df"
   ]
  },
  {
   "cell_type": "code",
   "execution_count": 147,
   "id": "df452775-cf3c-45ba-95aa-2322eeb31e86",
   "metadata": {},
   "outputs": [
    {
     "data": {
      "text/plain": [
       "<Axes: ylabel='Number of threatened species'>"
      ]
     },
     "execution_count": 147,
     "metadata": {},
     "output_type": "execute_result"
    },
    {
     "data": {
      "image/png": "[encoded data removed]",
      "text/plain": [
       "<Figure size 640x480 with 1 Axes>"
      ]
     },
     "metadata": {},
     "output_type": "display_data"
    }
   ],
   "source": [
    "plants_df2 = plants_df.set_index('Entity')\n",
    "plants_df2['Number of threatened species'].plot(kind = 'pie', startangle=60)"
   ]
  },
  {
   "cell_type": "code",
   "execution_count": 99,
   "id": "6ab0ce5d-6a86-4c36-b731-7b83691f3b10",
   "metadata": {},
   "outputs": [
    {
     "data": {
      "text/plain": [
       "<Axes: ylabel='count'>"
      ]
     },
     "execution_count": 99,
     "metadata": {},
     "output_type": "execute_result"
    },
    {
     "data": {
      "image/png": "[encoded data removed]",
      "text/plain": [
       "<Figure size 640x480 with 1 Axes>"
      ]
     },
     "metadata": {},
     "output_type": "display_data"
    }
   ],
   "source": [
    "plants_df['Entity'].value_counts().plot(kind = 'pie')"
   ]
  },
  {
   "cell_type": "code",
   "execution_count": 51,
   "id": "bb539b53-87d6-444a-8889-e91e9fbe3c49",
   "metadata": {},
   "outputs": [
    {
     "data": {
      "text/html": [
       "<div>\n",
       "<style scoped>\n",
       "    .dataframe tbody tr th:only-of-type {\n",
       "        vertical-align: middle;\n",
       "    }\n",
       "\n",
       "    .dataframe tbody tr th {\n",
       "        vertical-align: top;\n",
       "    }\n",
       "\n",
       "    .dataframe thead th {\n",
       "        text-align: right;\n",
       "    }\n",
       "</style>\n",
       "<table border=\"1\" class=\"dataframe\">\n",
       "  <thead>\n",
       "    <tr style=\"text-align: right;\">\n",
       "      <th></th>\n",
       "      <th>Entity</th>\n",
       "      <th>Year</th>\n",
       "      <th>Number of threatened species</th>\n",
       "    </tr>\n",
       "  </thead>\n",
       "  <tbody>\n",
       "    <tr>\n",
       "      <th>0</th>\n",
       "      <td>Amphibians</td>\n",
       "      <td>2024</td>\n",
       "      <td>2873</td>\n",
       "    </tr>\n",
       "    <tr>\n",
       "      <th>1</th>\n",
       "      <td>Birds</td>\n",
       "      <td>2024</td>\n",
       "      <td>1311</td>\n",
       "    </tr>\n",
       "    <tr>\n",
       "      <th>2</th>\n",
       "      <td>Mammals</td>\n",
       "      <td>2024</td>\n",
       "      <td>1354</td>\n",
       "    </tr>\n",
       "    <tr>\n",
       "      <th>3</th>\n",
       "      <td>Reptiles</td>\n",
       "      <td>2024</td>\n",
       "      <td>1845</td>\n",
       "    </tr>\n",
       "  </tbody>\n",
       "</table>\n",
       "</div>"
      ],
      "text/plain": [
       "       Entity  Year  Number of threatened species\n",
       "0  Amphibians  2024                          2873\n",
       "1       Birds  2024                          1311\n",
       "2     Mammals  2024                          1354\n",
       "3    Reptiles  2024                          1845"
      ]
     },
     "execution_count": 51,
     "metadata": {},
     "output_type": "execute_result"
    }
   ],
   "source": [
    "#The terrestrial_df will print only the \n",
    "terrestrial_df = clean_df.drop([2,3,4,5,6,7,8])\n",
    "terrestrial_df = terrestrial_df.reset_index(drop = True)\n",
    "\n",
    "terrestrial_df"
   ]
  },
  {
   "cell_type": "code",
   "execution_count": 53,
   "id": "51b63cab-9f09-4214-8c74-5e2a2cb1824f",
   "metadata": {},
   "outputs": [
    {
     "data": {
      "text/plain": [
       "<Axes: ylabel='count'>"
      ]
     },
     "execution_count": 53,
     "metadata": {},
     "output_type": "execute_result"
    },
    {
     "data": {
      "image/png": "[encoded data removed]",
      "text/plain": [
       "<Figure size 640x480 with 1 Axes>"
      ]
     },
     "metadata": {},
     "output_type": "display_data"
    }
   ],
   "source": [
    "terrestrial_df['Entity'].value_counts().plot(kind = 'pie')"
   ]
  },
  {
   "cell_type": "code",
   "execution_count": 101,
   "id": "7c67c39d-b8f4-4437-bdd1-8882cdf35333",
   "metadata": {},
   "outputs": [
    {
     "data": {
      "text/html": [
       "<div>\n",
       "<style scoped>\n",
       "    .dataframe tbody tr th:only-of-type {\n",
       "        vertical-align: middle;\n",
       "    }\n",
       "\n",
       "    .dataframe tbody tr th {\n",
       "        vertical-align: top;\n",
       "    }\n",
       "\n",
       "    .dataframe thead th {\n",
       "        text-align: right;\n",
       "    }\n",
       "</style>\n",
       "<table border=\"1\" class=\"dataframe\">\n",
       "  <thead>\n",
       "    <tr style=\"text-align: right;\">\n",
       "      <th></th>\n",
       "      <th>Entity</th>\n",
       "      <th>Year</th>\n",
       "      <th>Number of threatened species</th>\n",
       "    </tr>\n",
       "  </thead>\n",
       "  <tbody>\n",
       "    <tr>\n",
       "      <th>0</th>\n",
       "      <td>Amphibians</td>\n",
       "      <td>2024</td>\n",
       "      <td>2873</td>\n",
       "    </tr>\n",
       "    <tr>\n",
       "      <th>1</th>\n",
       "      <td>Corals</td>\n",
       "      <td>2024</td>\n",
       "      <td>334</td>\n",
       "    </tr>\n",
       "    <tr>\n",
       "      <th>2</th>\n",
       "      <td>Crustaceans</td>\n",
       "      <td>2024</td>\n",
       "      <td>748</td>\n",
       "    </tr>\n",
       "    <tr>\n",
       "      <th>3</th>\n",
       "      <td>Fishes</td>\n",
       "      <td>2024</td>\n",
       "      <td>4017</td>\n",
       "    </tr>\n",
       "    <tr>\n",
       "      <th>4</th>\n",
       "      <td>Horseshoe Crabs</td>\n",
       "      <td>2024</td>\n",
       "      <td>2</td>\n",
       "    </tr>\n",
       "    <tr>\n",
       "      <th>5</th>\n",
       "      <td>Reptiles</td>\n",
       "      <td>2024</td>\n",
       "      <td>1845</td>\n",
       "    </tr>\n",
       "  </tbody>\n",
       "</table>\n",
       "</div>"
      ],
      "text/plain": [
       "            Entity  Year  Number of threatened species\n",
       "0       Amphibians  2024                          2873\n",
       "1           Corals  2024                           334\n",
       "2      Crustaceans  2024                           748\n",
       "3           Fishes  2024                          4017\n",
       "4  Horseshoe Crabs  2024                             2\n",
       "5         Reptiles  2024                          1845"
      ]
     },
     "execution_count": 101,
     "metadata": {},
     "output_type": "execute_result"
    }
   ],
   "source": [
    "aquatic_df = clean_df.drop([1,4,6,7,9])\n",
    "aquatic_df = aquatic_df.reset_index(drop = True)\n",
    "\n",
    "aquatic_df"
   ]
  },
  {
   "cell_type": "code",
   "execution_count": 237,
   "id": "0bcacf9f-ffcd-4f05-81dd-cbfef8f3ff74",
   "metadata": {},
   "outputs": [
    {
     "data": {
      "text/plain": [
       "<Axes: ylabel='count'>"
      ]
     },
     "execution_count": 237,
     "metadata": {},
     "output_type": "execute_result"
    },
    {
     "data": {
      "image/png": "[encoded data removed]",
      "text/plain": [
       "<Figure size 640x480 with 1 Axes>"
      ]
     },
     "metadata": {},
     "output_type": "display_data"
    }
   ],
   "source": [
    "aquatic_df['Entity'].value_counts().plot(kind = 'pie')"
   ]
  },
  {
   "cell_type": "code",
   "execution_count": 159,
   "id": "d009ba57-01a9-41f7-be8c-1bae1b8b445f",
   "metadata": {},
   "outputs": [
    {
     "data": {
      "image/png": "[encoded data removed]",
      "text/plain": [
       "<Figure size 640x480 with 1 Axes>"
      ]
     },
     "metadata": {},
     "output_type": "display_data"
    }
   ],
   "source": [
    "label_counts = aquatic_df['Number of threatened species']\n",
    "plt.pie(label_counts,\n",
    "        labels = aquatic_df['Entity'],\n",
    "        autopct = '%1.1f%%',\n",
    "        #colors=plt.cm.tab20b.colors,\n",
    "        colors = [\"salmon\",\"#99FF66\",\"lightblue\"])\n",
    "plt.show()"
   ]
  },
  {
   "cell_type": "code",
   "execution_count": 123,
   "id": "ec767f33-02db-4dc1-9797-5fd61bad40ff",
   "metadata": {},
   "outputs": [
    {
     "data": {
      "text/plain": [
       "27969"
      ]
     },
     "execution_count": 123,
     "metadata": {},
     "output_type": "execute_result"
    }
   ],
   "source": [
    "plants_sum = sum(plants_df['Number of threatened species'])\n",
    "plants_sum"
   ]
  },
  {
   "cell_type": "code",
   "execution_count": 117,
   "id": "b6266caf-a070-40a9-b6c7-8da5bf4bf69f",
   "metadata": {},
   "outputs": [
    {
     "data": {
      "text/plain": [
       "7383"
      ]
     },
     "execution_count": 117,
     "metadata": {},
     "output_type": "execute_result"
    }
   ],
   "source": [
    "terrestrial_sum = sum(terrestrial_df['Number of threatened species'])\n",
    "terrestrial_sum"
   ]
  },
  {
   "cell_type": "code",
   "execution_count": 107,
   "id": "a7b56935-54dc-4f10-bcb9-211bfd2809d1",
   "metadata": {},
   "outputs": [
    {
     "data": {
      "text/plain": [
       "9819"
      ]
     },
     "execution_count": 107,
     "metadata": {},
     "output_type": "execute_result"
    }
   ],
   "source": [
    "aquatic_sum = sum(aquatic_df['Number of threatened species'])\n",
    "aquatic_sum"
   ]
  },
  {
   "cell_type": "code",
   "execution_count": 125,
   "id": "1ff23ca8-c09e-4ff7-8f41-e34b65b6ed1d",
   "metadata": {},
   "outputs": [
    {
     "data": {
      "text/html": [
       "<div>\n",
       "<style scoped>\n",
       "    .dataframe tbody tr th:only-of-type {\n",
       "        vertical-align: middle;\n",
       "    }\n",
       "\n",
       "    .dataframe tbody tr th {\n",
       "        vertical-align: top;\n",
       "    }\n",
       "\n",
       "    .dataframe thead th {\n",
       "        text-align: right;\n",
       "    }\n",
       "</style>\n",
       "<table border=\"1\" class=\"dataframe\">\n",
       "  <thead>\n",
       "    <tr style=\"text-align: right;\">\n",
       "      <th></th>\n",
       "      <th>Entity Type</th>\n",
       "      <th>Quantity</th>\n",
       "    </tr>\n",
       "  </thead>\n",
       "  <tbody>\n",
       "    <tr>\n",
       "      <th>0</th>\n",
       "      <td>Aquatic</td>\n",
       "      <td>9819</td>\n",
       "    </tr>\n",
       "    <tr>\n",
       "      <th>1</th>\n",
       "      <td>Terresrtial</td>\n",
       "      <td>7383</td>\n",
       "    </tr>\n",
       "    <tr>\n",
       "      <th>2</th>\n",
       "      <td>Plants</td>\n",
       "      <td>27969</td>\n",
       "    </tr>\n",
       "  </tbody>\n",
       "</table>\n",
       "</div>"
      ],
      "text/plain": [
       "   Entity Type  Quantity\n",
       "0      Aquatic      9819\n",
       "1  Terresrtial      7383\n",
       "2       Plants     27969"
      ]
     },
     "execution_count": 125,
     "metadata": {},
     "output_type": "execute_result"
    }
   ],
   "source": [
    "column_names = ['Entity Type','Quantity']\n",
    "data = {}\n",
    "data['Entity Type'] = ['Aquatic', 'Terresrtial', 'Plants']  # Add more here\n",
    "data['Quantity'] = [aquatic_sum, terrestrial_sum, plants_sum]  # Add more here\n",
    "summary_df = pd.DataFrame(data, columns=column_names)\n",
    "summary_df"
   ]
  },
  {
   "cell_type": "code",
   "execution_count": 165,
   "id": "dd069c12-9541-48b7-ade3-2b3517b09fac",
   "metadata": {},
   "outputs": [
    {
     "data": {
      "image/png": "[encoded data removed]",
      "text/plain": [
       "<Figure size 640x480 with 1 Axes>"
      ]
     },
     "metadata": {},
     "output_type": "display_data"
    }
   ],
   "source": [
    "label_counts = summary_df['Quantity']\n",
    "plt.pie(label_counts,\n",
    "        labels = summary_df['Entity Type'],\n",
    "        autopct = '%1.1f%%',\n",
    "        colors=plt.cm.tab20b.colors,\n",
    "       )\n",
    "plt.show()"
   ]
  },
  {
   "cell_type": "code",
   "execution_count": null,
   "id": "50bc3abd-2dbd-473a-9648-ec11827131ce",
   "metadata": {},
   "outputs": [],
   "source": []
  }
 ],
 "metadata": {
  "kernelspec": {
   "display_name": "Python 3 (ipykernel)",
   "language": "python",
   "name": "python3"
  },
  "language_info": {
   "codemirror_mode": {
    "name": "ipython",
    "version": 3
   },
   "file_extension": ".py",
   "mimetype": "text/x-python",
   "name": "python",
   "nbconvert_exporter": "python",
   "pygments_lexer": "ipython3",
   "version": "3.12.4"
  }
 },
 "nbformat": 4,
 "nbformat_minor": 5
}

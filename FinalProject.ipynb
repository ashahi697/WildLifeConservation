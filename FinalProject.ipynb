{
 "cells": [
  {
   "cell_type": "code",
   "execution_count": 116,
   "id": "2c779a33-5e7c-4f66-bc79-555add11b0f1",
   "metadata": {},
   "outputs": [],
   "source": [
    "# Importing matplotlib.pyplot to help us get a better pie chart with more features.\n",
    "import matplotlib.pyplot as plt"
   ]
  },
  {
   "cell_type": "code",
   "execution_count": 118,
   "id": "9514c307-8d56-45d6-9fcd-a3bfe5dd23b8",
   "metadata": {},
   "outputs": [
    {
     "name": "stdout",
     "output_type": "stream",
     "text": [
      "                 Entity  Code  Year  Number of threatened species\n",
      "0            All groups   NaN  2024                         46337\n",
      "1     All invertebrates   NaN  2024                          6432\n",
      "2            All plants   NaN  2024                         28159\n",
      "3       All vertebrates   NaN  2024                         11400\n",
      "4            Amphibians   NaN  2024                          2873\n",
      "5             Arachnids   NaN  2024                           283\n",
      "6                 Birds   NaN  2024                          1311\n",
      "7           Brown algae   NaN  2024                             6\n",
      "8                Corals   NaN  2024                           334\n",
      "9           Crustaceans   NaN  2024                           748\n",
      "10     Ferns and allies   NaN  2024                           322\n",
      "11               Fishes   NaN  2024                          4017\n",
      "12     Flowering plants   NaN  2024                         27197\n",
      "13          Green algae   NaN  2024                             0\n",
      "14          Gymnosperms   NaN  2024                           450\n",
      "15      Horseshoe Crabs   NaN  2024                             2\n",
      "16              Insects   NaN  2024                          2423\n",
      "17              Mammals   NaN  2024                          1354\n",
      "18             Molluscs   NaN  2024                          2456\n",
      "19               Mosses   NaN  2024                           181\n",
      "20            Mushrooms   NaN  2024                           340\n",
      "21  Other invertebrates   NaN  2024                           177\n",
      "22            Red algae   NaN  2024                             9\n",
      "23             Reptiles   NaN  2024                          1845\n",
      "24          Total fungi   NaN  2024                           346\n",
      "25         Velvet Worms   NaN  2024                             9\n"
     ]
    }
   ],
   "source": [
    "# Importing pandas\n",
    "import pandas as pd\n",
    "# Opening and reading the csv file\n",
    "df = pd.read_csv('number-species-threatened/number-species-threatened.csv')\n",
    "\n",
    "print(df)"
   ]
  },
  {
   "cell_type": "code",
   "execution_count": 120,
   "id": "c6934b56-3ed5-4431-986c-9b58ec1b6dd9",
   "metadata": {},
   "outputs": [
    {
     "data": {
      "text/html": [
       "<div>\n",
       "<style scoped>\n",
       "    .dataframe tbody tr th:only-of-type {\n",
       "        vertical-align: middle;\n",
       "    }\n",
       "\n",
       "    .dataframe tbody tr th {\n",
       "        vertical-align: top;\n",
       "    }\n",
       "\n",
       "    .dataframe thead th {\n",
       "        text-align: right;\n",
       "    }\n",
       "</style>\n",
       "<table border=\"1\" class=\"dataframe\">\n",
       "  <thead>\n",
       "    <tr style=\"text-align: right;\">\n",
       "      <th>Entity</th>\n",
       "      <th>Amphibians</th>\n",
       "      <th>Arachnids</th>\n",
       "      <th>Birds</th>\n",
       "      <th>Brown algae</th>\n",
       "      <th>Corals</th>\n",
       "      <th>Crustaceans</th>\n",
       "      <th>Ferns and allies</th>\n",
       "      <th>Fishes</th>\n",
       "      <th>Flowering plants</th>\n",
       "      <th>Green algae</th>\n",
       "      <th>...</th>\n",
       "      <th>Horseshoe Crabs</th>\n",
       "      <th>Insects</th>\n",
       "      <th>Mammals</th>\n",
       "      <th>Molluscs</th>\n",
       "      <th>Mosses</th>\n",
       "      <th>Mushrooms</th>\n",
       "      <th>Other invertebrates</th>\n",
       "      <th>Red algae</th>\n",
       "      <th>Reptiles</th>\n",
       "      <th>Velvet Worms</th>\n",
       "    </tr>\n",
       "    <tr>\n",
       "      <th>Code</th>\n",
       "      <th></th>\n",
       "      <th></th>\n",
       "      <th></th>\n",
       "      <th></th>\n",
       "      <th></th>\n",
       "      <th></th>\n",
       "      <th></th>\n",
       "      <th></th>\n",
       "      <th></th>\n",
       "      <th></th>\n",
       "      <th></th>\n",
       "      <th></th>\n",
       "      <th></th>\n",
       "      <th></th>\n",
       "      <th></th>\n",
       "      <th></th>\n",
       "      <th></th>\n",
       "      <th></th>\n",
       "      <th></th>\n",
       "      <th></th>\n",
       "      <th></th>\n",
       "    </tr>\n",
       "  </thead>\n",
       "  <tbody>\n",
       "    <tr>\n",
       "      <th>invertebrates</th>\n",
       "      <td>0.0</td>\n",
       "      <td>283.0</td>\n",
       "      <td>0.0</td>\n",
       "      <td>6.0</td>\n",
       "      <td>334.0</td>\n",
       "      <td>0.0</td>\n",
       "      <td>0.0</td>\n",
       "      <td>0.0</td>\n",
       "      <td>0.0</td>\n",
       "      <td>0.0</td>\n",
       "      <td>...</td>\n",
       "      <td>2.0</td>\n",
       "      <td>2423.0</td>\n",
       "      <td>0.0</td>\n",
       "      <td>2456.0</td>\n",
       "      <td>0.0</td>\n",
       "      <td>0.0</td>\n",
       "      <td>177.0</td>\n",
       "      <td>0.0</td>\n",
       "      <td>0.0</td>\n",
       "      <td>9.0</td>\n",
       "    </tr>\n",
       "    <tr>\n",
       "      <th>plant</th>\n",
       "      <td>0.0</td>\n",
       "      <td>0.0</td>\n",
       "      <td>0.0</td>\n",
       "      <td>0.0</td>\n",
       "      <td>0.0</td>\n",
       "      <td>0.0</td>\n",
       "      <td>322.0</td>\n",
       "      <td>0.0</td>\n",
       "      <td>27197.0</td>\n",
       "      <td>0.0</td>\n",
       "      <td>...</td>\n",
       "      <td>0.0</td>\n",
       "      <td>0.0</td>\n",
       "      <td>0.0</td>\n",
       "      <td>0.0</td>\n",
       "      <td>181.0</td>\n",
       "      <td>340.0</td>\n",
       "      <td>0.0</td>\n",
       "      <td>9.0</td>\n",
       "      <td>0.0</td>\n",
       "      <td>0.0</td>\n",
       "    </tr>\n",
       "    <tr>\n",
       "      <th>vertebrates</th>\n",
       "      <td>2873.0</td>\n",
       "      <td>0.0</td>\n",
       "      <td>1311.0</td>\n",
       "      <td>0.0</td>\n",
       "      <td>0.0</td>\n",
       "      <td>748.0</td>\n",
       "      <td>0.0</td>\n",
       "      <td>4017.0</td>\n",
       "      <td>0.0</td>\n",
       "      <td>0.0</td>\n",
       "      <td>...</td>\n",
       "      <td>0.0</td>\n",
       "      <td>0.0</td>\n",
       "      <td>1354.0</td>\n",
       "      <td>0.0</td>\n",
       "      <td>0.0</td>\n",
       "      <td>0.0</td>\n",
       "      <td>0.0</td>\n",
       "      <td>0.0</td>\n",
       "      <td>1845.0</td>\n",
       "      <td>0.0</td>\n",
       "    </tr>\n",
       "  </tbody>\n",
       "</table>\n",
       "<p>3 rows × 21 columns</p>\n",
       "</div>"
      ],
      "text/plain": [
       "Entity         Amphibians  Arachnids   Birds  Brown algae  Corals  \\\n",
       "Code                                                                \n",
       "invertebrates         0.0      283.0     0.0          6.0   334.0   \n",
       "plant                 0.0        0.0     0.0          0.0     0.0   \n",
       "vertebrates        2873.0        0.0  1311.0          0.0     0.0   \n",
       "\n",
       "Entity         Crustaceans  Ferns and allies  Fishes  Flowering plants  \\\n",
       "Code                                                                     \n",
       "invertebrates          0.0               0.0     0.0               0.0   \n",
       "plant                  0.0             322.0     0.0           27197.0   \n",
       "vertebrates          748.0               0.0  4017.0               0.0   \n",
       "\n",
       "Entity         Green algae  ...  Horseshoe Crabs  Insects  Mammals  Molluscs  \\\n",
       "Code                        ...                                                \n",
       "invertebrates          0.0  ...              2.0   2423.0      0.0    2456.0   \n",
       "plant                  0.0  ...              0.0      0.0      0.0       0.0   \n",
       "vertebrates            0.0  ...              0.0      0.0   1354.0       0.0   \n",
       "\n",
       "Entity         Mosses  Mushrooms  Other invertebrates  Red algae  Reptiles  \\\n",
       "Code                                                                         \n",
       "invertebrates     0.0        0.0                177.0        0.0       0.0   \n",
       "plant           181.0      340.0                  0.0        9.0       0.0   \n",
       "vertebrates       0.0        0.0                  0.0        0.0    1845.0   \n",
       "\n",
       "Entity         Velvet Worms  \n",
       "Code                         \n",
       "invertebrates           9.0  \n",
       "plant                   0.0  \n",
       "vertebrates             0.0  \n",
       "\n",
       "[3 rows x 21 columns]"
      ]
     },
     "execution_count": 120,
     "metadata": {},
     "output_type": "execute_result"
    }
   ],
   "source": [
    "# Copied the main dataframe for stack bar chart for later use\n",
    "copy_main_df = df.copy()\n",
    "\n",
    "# Dropped the unecessary rows\n",
    "copy_main_df = copy_main_df.drop([0,1,2,3,24])\n",
    "\n",
    "\n",
    "# Used the Code column and set the value to be invertebrates, fungi, vertebrates, or plants\n",
    "copy_main_df['Code'] = ['vertebrates', \n",
    "                        'invertebrates', \n",
    "                        'vertebrates',\n",
    "                        'invertebrates',\n",
    "                        'invertebrates',\n",
    "                        'vertebrates',\n",
    "                        'plant',\n",
    "                        'vertebrates',\n",
    "                        'plant',\n",
    "                        'plant',\n",
    "                        'plant',\n",
    "                        'invertebrates',\n",
    "                        'invertebrates',\n",
    "                        'vertebrates',\n",
    "                        'invertebrates',\n",
    "                        'plant',\n",
    "                        'plant',\n",
    "                        'invertebrates',\n",
    "                        'plant',\n",
    "                        'vertebrates',\n",
    "                        'invertebrates'\n",
    "                       ]\n",
    "\n",
    "# Changed dataframe so the Code column becomes the index. Created a pivot table to prepare for stacked bar chart. \n",
    "# Used fill_value to set the NaN to 0\n",
    "pivot_df = copy_main_df.pivot_table(index = \"Code\", columns=\"Entity\", values=\"Number of threatened species\", fill_value=0)\n",
    "pivot_df"
   ]
  },
  {
   "cell_type": "code",
   "execution_count": 122,
   "id": "9e896d18-2029-4852-b042-132075821db9",
   "metadata": {},
   "outputs": [],
   "source": [
    "# Cleaning the data and deleting the 'Code NaN' column \n",
    "del df['Code']"
   ]
  },
  {
   "cell_type": "code",
   "execution_count": 124,
   "id": "db25f7dd-9f7d-449b-9958-b060569eba60",
   "metadata": {},
   "outputs": [
    {
     "data": {
      "text/html": [
       "<div>\n",
       "<style scoped>\n",
       "    .dataframe tbody tr th:only-of-type {\n",
       "        vertical-align: middle;\n",
       "    }\n",
       "\n",
       "    .dataframe tbody tr th {\n",
       "        vertical-align: top;\n",
       "    }\n",
       "\n",
       "    .dataframe thead th {\n",
       "        text-align: right;\n",
       "    }\n",
       "</style>\n",
       "<table border=\"1\" class=\"dataframe\">\n",
       "  <thead>\n",
       "    <tr style=\"text-align: right;\">\n",
       "      <th></th>\n",
       "      <th>Entity</th>\n",
       "      <th>Year</th>\n",
       "      <th>Number of threatened species</th>\n",
       "    </tr>\n",
       "  </thead>\n",
       "  <tbody>\n",
       "    <tr>\n",
       "      <th>0</th>\n",
       "      <td>All groups</td>\n",
       "      <td>2024</td>\n",
       "      <td>46337</td>\n",
       "    </tr>\n",
       "    <tr>\n",
       "      <th>1</th>\n",
       "      <td>All invertebrates</td>\n",
       "      <td>2024</td>\n",
       "      <td>6432</td>\n",
       "    </tr>\n",
       "    <tr>\n",
       "      <th>2</th>\n",
       "      <td>All plants</td>\n",
       "      <td>2024</td>\n",
       "      <td>28159</td>\n",
       "    </tr>\n",
       "    <tr>\n",
       "      <th>3</th>\n",
       "      <td>All vertebrates</td>\n",
       "      <td>2024</td>\n",
       "      <td>11400</td>\n",
       "    </tr>\n",
       "    <tr>\n",
       "      <th>4</th>\n",
       "      <td>Amphibians</td>\n",
       "      <td>2024</td>\n",
       "      <td>2873</td>\n",
       "    </tr>\n",
       "    <tr>\n",
       "      <th>5</th>\n",
       "      <td>Arachnids</td>\n",
       "      <td>2024</td>\n",
       "      <td>283</td>\n",
       "    </tr>\n",
       "    <tr>\n",
       "      <th>6</th>\n",
       "      <td>Birds</td>\n",
       "      <td>2024</td>\n",
       "      <td>1311</td>\n",
       "    </tr>\n",
       "    <tr>\n",
       "      <th>7</th>\n",
       "      <td>Brown algae</td>\n",
       "      <td>2024</td>\n",
       "      <td>6</td>\n",
       "    </tr>\n",
       "    <tr>\n",
       "      <th>8</th>\n",
       "      <td>Corals</td>\n",
       "      <td>2024</td>\n",
       "      <td>334</td>\n",
       "    </tr>\n",
       "    <tr>\n",
       "      <th>9</th>\n",
       "      <td>Crustaceans</td>\n",
       "      <td>2024</td>\n",
       "      <td>748</td>\n",
       "    </tr>\n",
       "    <tr>\n",
       "      <th>10</th>\n",
       "      <td>Ferns and allies</td>\n",
       "      <td>2024</td>\n",
       "      <td>322</td>\n",
       "    </tr>\n",
       "    <tr>\n",
       "      <th>11</th>\n",
       "      <td>Fishes</td>\n",
       "      <td>2024</td>\n",
       "      <td>4017</td>\n",
       "    </tr>\n",
       "    <tr>\n",
       "      <th>12</th>\n",
       "      <td>Flowering plants</td>\n",
       "      <td>2024</td>\n",
       "      <td>27197</td>\n",
       "    </tr>\n",
       "    <tr>\n",
       "      <th>13</th>\n",
       "      <td>Green algae</td>\n",
       "      <td>2024</td>\n",
       "      <td>0</td>\n",
       "    </tr>\n",
       "    <tr>\n",
       "      <th>14</th>\n",
       "      <td>Gymnosperms</td>\n",
       "      <td>2024</td>\n",
       "      <td>450</td>\n",
       "    </tr>\n",
       "    <tr>\n",
       "      <th>15</th>\n",
       "      <td>Horseshoe Crabs</td>\n",
       "      <td>2024</td>\n",
       "      <td>2</td>\n",
       "    </tr>\n",
       "    <tr>\n",
       "      <th>16</th>\n",
       "      <td>Insects</td>\n",
       "      <td>2024</td>\n",
       "      <td>2423</td>\n",
       "    </tr>\n",
       "    <tr>\n",
       "      <th>17</th>\n",
       "      <td>Mammals</td>\n",
       "      <td>2024</td>\n",
       "      <td>1354</td>\n",
       "    </tr>\n",
       "    <tr>\n",
       "      <th>18</th>\n",
       "      <td>Molluscs</td>\n",
       "      <td>2024</td>\n",
       "      <td>2456</td>\n",
       "    </tr>\n",
       "    <tr>\n",
       "      <th>19</th>\n",
       "      <td>Mosses</td>\n",
       "      <td>2024</td>\n",
       "      <td>181</td>\n",
       "    </tr>\n",
       "    <tr>\n",
       "      <th>20</th>\n",
       "      <td>Mushrooms</td>\n",
       "      <td>2024</td>\n",
       "      <td>340</td>\n",
       "    </tr>\n",
       "    <tr>\n",
       "      <th>21</th>\n",
       "      <td>Other invertebrates</td>\n",
       "      <td>2024</td>\n",
       "      <td>177</td>\n",
       "    </tr>\n",
       "    <tr>\n",
       "      <th>22</th>\n",
       "      <td>Red algae</td>\n",
       "      <td>2024</td>\n",
       "      <td>9</td>\n",
       "    </tr>\n",
       "    <tr>\n",
       "      <th>23</th>\n",
       "      <td>Reptiles</td>\n",
       "      <td>2024</td>\n",
       "      <td>1845</td>\n",
       "    </tr>\n",
       "    <tr>\n",
       "      <th>24</th>\n",
       "      <td>Total fungi</td>\n",
       "      <td>2024</td>\n",
       "      <td>346</td>\n",
       "    </tr>\n",
       "    <tr>\n",
       "      <th>25</th>\n",
       "      <td>Velvet Worms</td>\n",
       "      <td>2024</td>\n",
       "      <td>9</td>\n",
       "    </tr>\n",
       "  </tbody>\n",
       "</table>\n",
       "</div>"
      ],
      "text/plain": [
       "                 Entity  Year  Number of threatened species\n",
       "0            All groups  2024                         46337\n",
       "1     All invertebrates  2024                          6432\n",
       "2            All plants  2024                         28159\n",
       "3       All vertebrates  2024                         11400\n",
       "4            Amphibians  2024                          2873\n",
       "5             Arachnids  2024                           283\n",
       "6                 Birds  2024                          1311\n",
       "7           Brown algae  2024                             6\n",
       "8                Corals  2024                           334\n",
       "9           Crustaceans  2024                           748\n",
       "10     Ferns and allies  2024                           322\n",
       "11               Fishes  2024                          4017\n",
       "12     Flowering plants  2024                         27197\n",
       "13          Green algae  2024                             0\n",
       "14          Gymnosperms  2024                           450\n",
       "15      Horseshoe Crabs  2024                             2\n",
       "16              Insects  2024                          2423\n",
       "17              Mammals  2024                          1354\n",
       "18             Molluscs  2024                          2456\n",
       "19               Mosses  2024                           181\n",
       "20            Mushrooms  2024                           340\n",
       "21  Other invertebrates  2024                           177\n",
       "22            Red algae  2024                             9\n",
       "23             Reptiles  2024                          1845\n",
       "24          Total fungi  2024                           346\n",
       "25         Velvet Worms  2024                             9"
      ]
     },
     "execution_count": 124,
     "metadata": {},
     "output_type": "execute_result"
    }
   ],
   "source": [
    "# Only using df to print out a nicer data table\n",
    "df"
   ]
  },
  {
   "cell_type": "code",
<<<<<<< HEAD
   "execution_count": 126,
=======
<<<<<<< HEAD
   "execution_count": 71,
   "id": "c7111c8a-69d6-45c1-ad3e-b00854198927",
   "metadata": {},
   "outputs": [
    {
     "ename": "SyntaxError",
     "evalue": "invalid syntax (929185079.py, line 2)",
     "output_type": "error",
     "traceback": [
      "\u001b[0;36m  Cell \u001b[0;32mIn[71], line 2\u001b[0;36m\u001b[0m\n\u001b[0;31m    df = del(df['Code'])\u001b[0m\n\u001b[0m         ^\u001b[0m\n\u001b[0;31mSyntaxError\u001b[0m\u001b[0;31m:\u001b[0m invalid syntax\n"
     ]
    }
   ],
   "source": [
    "#delete the code column as it provides no value\n",
    "df = del(df['Code'])\n",
    "\n",
    "\n"
   ]
  },
  {
   "cell_type": "code",
   "execution_count": 51,
   "id": "e7fc95f3-5738-4603-9c9e-c8c0797572b6",
   "metadata": {},
   "outputs": [],
   "source": [
    "#df_clean= df.iloc[0,1,2,3] #these just sum up a lot of our data "
   ]
  },
  {
   "cell_type": "code",
   "execution_count": 52,
   "id": "b0f92c88-1fd4-4d77-97ea-f3efe132ff38",
   "metadata": {},
   "outputs": [],
   "source": [
    "#import seaborn so we can make our data visualizations\n",
    "import seaborn as sns\n"
   ]
  },
  {
   "cell_type": "code",
   "execution_count": 53,
   "id": "e8398fb1-0829-472f-81f1-dfeb17411241",
   "metadata": {},
   "outputs": [],
   "source": [
    "#histogram to show what species has the highest population out of our data holistically\n",
    "#sns.histplot(df ['Entity'])\n",
    "\n",
    "#this graph sucks\n"
   ]
  },
  {
   "cell_type": "code",
   "execution_count": 54,
   "id": "ca375de5-c358-46ef-a122-83c2af8593ff",
   "metadata": {},
   "outputs": [],
   "source": [
    "#we need to remove the first 4 columns (columns 0-3)\n",
    "#all species is just reiterating the data by giving us a sum\n",
    "\n"
   ]
  },
  {
   "cell_type": "code",
   "execution_count": 66,
   "id": "f1eaad4b-7760-40e8-8dc3-cbc04a0cc7a7",
=======
   "execution_count": 43,
>>>>>>> 999ded1edd9de9d66de2a49c7a33d032c2cb4a97
   "id": "da8fc4cd-56a2-4a56-a7d5-32cc4c2f695f",
>>>>>>> e5e3a903c82e58e5007ad362ffd2650755d8800e
   "metadata": {},
   "outputs": [
    {
     "data": {
      "text/html": [
       "<div>\n",
       "<style scoped>\n",
       "    .dataframe tbody tr th:only-of-type {\n",
       "        vertical-align: middle;\n",
       "    }\n",
       "\n",
       "    .dataframe tbody tr th {\n",
       "        vertical-align: top;\n",
       "    }\n",
       "\n",
       "    .dataframe thead th {\n",
       "        text-align: right;\n",
       "    }\n",
       "</style>\n",
       "<table border=\"1\" class=\"dataframe\">\n",
       "  <thead>\n",
       "    <tr style=\"text-align: right;\">\n",
       "      <th></th>\n",
       "      <th>Entity</th>\n",
       "      <th>Year</th>\n",
       "      <th>Number of threatened species</th>\n",
       "    </tr>\n",
       "  </thead>\n",
       "  <tbody>\n",
       "    <tr>\n",
       "      <th>0</th>\n",
       "      <td>Amphibians</td>\n",
       "      <td>2024</td>\n",
       "      <td>2873</td>\n",
       "    </tr>\n",
       "    <tr>\n",
       "      <th>1</th>\n",
       "      <td>Birds</td>\n",
       "      <td>2024</td>\n",
       "      <td>1311</td>\n",
       "    </tr>\n",
       "    <tr>\n",
       "      <th>2</th>\n",
       "      <td>Corals</td>\n",
       "      <td>2024</td>\n",
       "      <td>334</td>\n",
       "    </tr>\n",
       "    <tr>\n",
       "      <th>3</th>\n",
       "      <td>Crustaceans</td>\n",
       "      <td>2024</td>\n",
       "      <td>748</td>\n",
       "    </tr>\n",
       "    <tr>\n",
       "      <th>4</th>\n",
       "      <td>Ferns and allies</td>\n",
       "      <td>2024</td>\n",
       "      <td>322</td>\n",
       "    </tr>\n",
       "    <tr>\n",
       "      <th>5</th>\n",
       "      <td>Fishes</td>\n",
       "      <td>2024</td>\n",
       "      <td>4017</td>\n",
       "    </tr>\n",
       "    <tr>\n",
       "      <th>6</th>\n",
       "      <td>Flowering plants</td>\n",
       "      <td>2024</td>\n",
       "      <td>27197</td>\n",
       "    </tr>\n",
       "    <tr>\n",
       "      <th>7</th>\n",
       "      <td>Gymnosperms</td>\n",
       "      <td>2024</td>\n",
       "      <td>450</td>\n",
       "    </tr>\n",
       "    <tr>\n",
       "      <th>8</th>\n",
       "      <td>Horseshoe Crabs</td>\n",
       "      <td>2024</td>\n",
       "      <td>2</td>\n",
       "    </tr>\n",
       "    <tr>\n",
       "      <th>9</th>\n",
       "      <td>Mammals</td>\n",
       "      <td>2024</td>\n",
       "      <td>1354</td>\n",
       "    </tr>\n",
       "    <tr>\n",
       "      <th>10</th>\n",
       "      <td>Reptiles</td>\n",
       "      <td>2024</td>\n",
       "      <td>1845</td>\n",
       "    </tr>\n",
       "  </tbody>\n",
       "</table>\n",
       "</div>"
      ],
      "text/plain": [
       "              Entity  Year  Number of threatened species\n",
       "0         Amphibians  2024                          2873\n",
       "1              Birds  2024                          1311\n",
       "2             Corals  2024                           334\n",
       "3        Crustaceans  2024                           748\n",
       "4   Ferns and allies  2024                           322\n",
       "5             Fishes  2024                          4017\n",
       "6   Flowering plants  2024                         27197\n",
       "7        Gymnosperms  2024                           450\n",
       "8    Horseshoe Crabs  2024                             2\n",
       "9            Mammals  2024                          1354\n",
       "10          Reptiles  2024                          1845"
      ]
     },
<<<<<<< HEAD
     "execution_count": 126,
=======
<<<<<<< HEAD
     "execution_count": 66,
=======
     "execution_count": 43,
>>>>>>> e5e3a903c82e58e5007ad362ffd2650755d8800e
>>>>>>> 999ded1edd9de9d66de2a49c7a33d032c2cb4a97
     "metadata": {},
     "output_type": "execute_result"
    }
   ],
   "source": [
    "# Created another dataframe using .drop to exclude the animal classes we won't use. \n",
    "# The clean_df prints out the new chart \n",
    "clean_df = df.drop([0,1,2,3,5,7,13,18,19,16,20,21,22,24,25])\n",
    "clean_df = clean_df.reset_index(drop = True)\n",
    "\n",
    "clean_df"
   ]
  },
  {
   "cell_type": "code",
<<<<<<< HEAD
   "execution_count": 128,
=======
<<<<<<< HEAD
   "execution_count": 56,
   "id": "bf2ff1d2-3388-4620-9138-292c34040beb",
   "metadata": {},
   "outputs": [
    {
     "data": {
      "text/html": [
       "<div>\n",
       "<style scoped>\n",
       "    .dataframe tbody tr th:only-of-type {\n",
       "        vertical-align: middle;\n",
       "    }\n",
       "\n",
       "    .dataframe tbody tr th {\n",
       "        vertical-align: top;\n",
       "    }\n",
       "\n",
       "    .dataframe thead th {\n",
       "        text-align: right;\n",
       "    }\n",
       "</style>\n",
       "<table border=\"1\" class=\"dataframe\">\n",
       "  <thead>\n",
       "    <tr style=\"text-align: right;\">\n",
       "      <th></th>\n",
       "      <th>Entity</th>\n",
       "      <th>Year</th>\n",
       "      <th>Number of threatened species</th>\n",
       "    </tr>\n",
       "  </thead>\n",
       "  <tbody>\n",
       "    <tr>\n",
       "      <th>0</th>\n",
       "      <td>Amphibians</td>\n",
       "      <td>2024</td>\n",
       "      <td>2873</td>\n",
       "    </tr>\n",
       "    <tr>\n",
       "      <th>1</th>\n",
       "      <td>Corals</td>\n",
       "      <td>2024</td>\n",
       "      <td>334</td>\n",
       "    </tr>\n",
       "    <tr>\n",
       "      <th>2</th>\n",
       "      <td>Crustaceans</td>\n",
       "      <td>2024</td>\n",
       "      <td>748</td>\n",
       "    </tr>\n",
       "    <tr>\n",
       "      <th>3</th>\n",
       "      <td>Horseshoe Crabs</td>\n",
       "      <td>2024</td>\n",
       "      <td>2</td>\n",
       "    </tr>\n",
       "  </tbody>\n",
       "</table>\n",
       "</div>"
      ],
      "text/plain": [
       "            Entity  Year  Number of threatened species\n",
       "0       Amphibians  2024                          2873\n",
       "1           Corals  2024                           334\n",
       "2      Crustaceans  2024                           748\n",
       "3  Horseshoe Crabs  2024                             2"
      ]
     },
     "execution_count": 56,
     "metadata": {},
     "output_type": "execute_result"
    }
   ],
=======
   "execution_count": 45,
>>>>>>> 999ded1edd9de9d66de2a49c7a33d032c2cb4a97
   "id": "719150d5-5a90-48a1-bd01-dc096e3b271c",
   "metadata": {},
   "outputs": [],
>>>>>>> e5e3a903c82e58e5007ad362ffd2650755d8800e
   "source": [
    "# Importing seaborn will allow us to plot our data\n",
    "import seaborn as sns"
   ]
  },
  {
   "cell_type": "code",
<<<<<<< HEAD
   "execution_count": 130,
=======
<<<<<<< HEAD
   "execution_count": 57,
   "id": "015f2553-2106-4fd9-9a72-fa48b6d421f8",
   "metadata": {},
=======
   "execution_count": 47,
>>>>>>> 999ded1edd9de9d66de2a49c7a33d032c2cb4a97
   "id": "529f8819-e5ab-4398-8be3-a5e0239a3328",
   "metadata": {
    "scrolled": true
   },
>>>>>>> e5e3a903c82e58e5007ad362ffd2650755d8800e
   "outputs": [
    {
     "data": {
      "text/html": [
       "<div>\n",
       "<style scoped>\n",
       "    .dataframe tbody tr th:only-of-type {\n",
       "        vertical-align: middle;\n",
       "    }\n",
       "\n",
       "    .dataframe tbody tr th {\n",
       "        vertical-align: top;\n",
       "    }\n",
       "\n",
       "    .dataframe thead th {\n",
       "        text-align: right;\n",
       "    }\n",
       "</style>\n",
       "<table border=\"1\" class=\"dataframe\">\n",
       "  <thead>\n",
       "    <tr style=\"text-align: right;\">\n",
       "      <th></th>\n",
       "      <th>Entity</th>\n",
       "      <th>Year</th>\n",
       "      <th>Number of threatened species</th>\n",
       "    </tr>\n",
       "  </thead>\n",
       "  <tbody>\n",
       "    <tr>\n",
       "      <th>0</th>\n",
       "      <td>Ferns and allies</td>\n",
       "      <td>2024</td>\n",
       "      <td>322</td>\n",
       "    </tr>\n",
       "    <tr>\n",
       "      <th>1</th>\n",
       "      <td>Flowering plants</td>\n",
       "      <td>2024</td>\n",
       "      <td>27197</td>\n",
       "    </tr>\n",
       "    <tr>\n",
       "      <th>2</th>\n",
       "      <td>Gymnosperms</td>\n",
       "      <td>2024</td>\n",
       "      <td>450</td>\n",
       "    </tr>\n",
       "  </tbody>\n",
       "</table>\n",
       "</div>"
      ],
      "text/plain": [
       "             Entity  Year  Number of threatened species\n",
       "0  Ferns and allies  2024                           322\n",
       "1  Flowering plants  2024                         27197\n",
       "2       Gymnosperms  2024                           450"
      ]
     },
<<<<<<< HEAD
     "execution_count": 130,
=======
<<<<<<< HEAD
     "execution_count": 57,
=======
     "execution_count": 47,
>>>>>>> e5e3a903c82e58e5007ad362ffd2650755d8800e
>>>>>>> 999ded1edd9de9d66de2a49c7a33d032c2cb4a97
     "metadata": {},
     "output_type": "execute_result"
    }
   ],
   "source": [
    "#Created a plants_df only using plant groups.\n",
    "plants_df = clean_df.drop([0,1,2,3,5,8,9,10])\n",
    "plants_df = plants_df.reset_index(drop = True)\n",
    "\n",
    "plants_df"
   ]
  },
  {
   "cell_type": "code",
<<<<<<< HEAD
   "execution_count": 132,
   "id": "ef4588f9-8c30-438c-a8a1-80fcf080f90b",
   "metadata": {},
   "outputs": [
    {
     "data": {
      "text/plain": [
       "<Axes: title={'center': 'Number Of Threatened Species'}, xlabel='Entity'>"
      ]
     },
     "execution_count": 132,
     "metadata": {},
     "output_type": "execute_result"
    },
    {
     "data": {
      "image/png": "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",
      "text/plain": [
       "<Figure size 640x480 with 1 Axes>"
      ]
     },
     "metadata": {},
     "output_type": "display_data"
    }
   ],
   "source": [
    "# Used bar chart to plot plant groups and the threated species.\n",
    "p = plants_df.plot(\n",
    "    kind='bar',\n",
    "    x=\"Entity\",\n",
    "    y=\"Number of threatened species\",\n",
    "    legend = False,\n",
    "    title = 'Number Of Threatened Species',\n",
    "    color = ['lightgreen','darkgreen','limegreen','purple','lightgreen','lightgreen']\n",
    ")\n",
    "p"
=======
<<<<<<< HEAD
   "execution_count": 58,
   "id": "84876530-6114-451f-ae6c-dd5f6c1044da",
   "metadata": {},
   "outputs": [],
   "source": [
    "#clean_df - used to check my data for cleaning"
>>>>>>> 999ded1edd9de9d66de2a49c7a33d032c2cb4a97
   ]
  },
  {
   "cell_type": "code",
<<<<<<< HEAD
   "execution_count": 134,
=======
   "execution_count": 59,
   "id": "f1401a39-1f41-4064-83e2-b35319af13b3",
=======
   "execution_count": 51,
>>>>>>> 999ded1edd9de9d66de2a49c7a33d032c2cb4a97
   "id": "bb539b53-87d6-444a-8889-e91e9fbe3c49",
>>>>>>> e5e3a903c82e58e5007ad362ffd2650755d8800e
   "metadata": {},
   "outputs": [
    {
     "data": {
      "text/html": [
       "<div>\n",
       "<style scoped>\n",
       "    .dataframe tbody tr th:only-of-type {\n",
       "        vertical-align: middle;\n",
       "    }\n",
       "\n",
       "    .dataframe tbody tr th {\n",
       "        vertical-align: top;\n",
       "    }\n",
       "\n",
       "    .dataframe thead th {\n",
       "        text-align: right;\n",
       "    }\n",
       "</style>\n",
       "<table border=\"1\" class=\"dataframe\">\n",
       "  <thead>\n",
       "    <tr style=\"text-align: right;\">\n",
       "      <th></th>\n",
       "      <th>Entity</th>\n",
       "      <th>Year</th>\n",
       "      <th>Number of threatened species</th>\n",
       "    </tr>\n",
       "  </thead>\n",
       "  <tbody>\n",
       "    <tr>\n",
       "      <th>0</th>\n",
       "      <td>Amphibians</td>\n",
       "      <td>2024</td>\n",
       "      <td>2873</td>\n",
       "    </tr>\n",
       "    <tr>\n",
       "      <th>1</th>\n",
       "      <td>Birds</td>\n",
       "      <td>2024</td>\n",
       "      <td>1311</td>\n",
       "    </tr>\n",
       "    <tr>\n",
       "      <th>2</th>\n",
<<<<<<< HEAD
       "      <td>Corals</td>\n",
       "      <td>2024</td>\n",
       "      <td>334</td>\n",
       "    </tr>\n",
       "    <tr>\n",
       "      <th>3</th>\n",
=======
>>>>>>> e5e3a903c82e58e5007ad362ffd2650755d8800e
       "      <td>Mammals</td>\n",
       "      <td>2024</td>\n",
       "      <td>1354</td>\n",
       "    </tr>\n",
       "    <tr>\n",
       "      <th>3</th>\n",
       "      <td>Reptiles</td>\n",
       "      <td>2024</td>\n",
       "      <td>1845</td>\n",
       "    </tr>\n",
       "  </tbody>\n",
       "</table>\n",
       "</div>"
      ],
      "text/plain": [
       "       Entity  Year  Number of threatened species\n",
       "0  Amphibians  2024                          2873\n",
       "1       Birds  2024                          1311\n",
<<<<<<< HEAD
       "2      Corals  2024                           334\n",
       "3     Mammals  2024                          1354\n",
       "4    Reptiles  2024                          1845"
      ]
     },
     "execution_count": 59,
=======
       "2     Mammals  2024                          1354\n",
       "3    Reptiles  2024                          1845"
      ]
     },
<<<<<<< HEAD
     "execution_count": 134,
=======
     "execution_count": 51,
>>>>>>> e5e3a903c82e58e5007ad362ffd2650755d8800e
>>>>>>> 999ded1edd9de9d66de2a49c7a33d032c2cb4a97
     "metadata": {},
     "output_type": "execute_result"
    }
   ],
   "source": [
    "# The terrestrial_df will print only the terrestrial animal classes.\n",
    "terrestrial_df = clean_df.drop([2,3,4,5,6,7,8])\n",
    "terrestrial_df = terrestrial_df.reset_index(drop = True)\n",
    "\n",
    "terrestrial_df"
   ]
  },
  {
   "cell_type": "code",
   "execution_count": 136,
   "id": "7c67c39d-b8f4-4437-bdd1-8882cdf35333",
   "metadata": {},
   "outputs": [
    {
     "data": {
      "text/html": [
       "<div>\n",
       "<style scoped>\n",
       "    .dataframe tbody tr th:only-of-type {\n",
       "        vertical-align: middle;\n",
       "    }\n",
       "\n",
       "    .dataframe tbody tr th {\n",
       "        vertical-align: top;\n",
       "    }\n",
       "\n",
       "    .dataframe thead th {\n",
       "        text-align: right;\n",
       "    }\n",
       "</style>\n",
       "<table border=\"1\" class=\"dataframe\">\n",
       "  <thead>\n",
       "    <tr style=\"text-align: right;\">\n",
       "      <th></th>\n",
       "      <th>Entity</th>\n",
       "      <th>Year</th>\n",
       "      <th>Number of threatened species</th>\n",
       "    </tr>\n",
       "  </thead>\n",
       "  <tbody>\n",
       "    <tr>\n",
       "      <th>0</th>\n",
       "      <td>Amphibians</td>\n",
       "      <td>2024</td>\n",
       "      <td>2873</td>\n",
       "    </tr>\n",
       "    <tr>\n",
       "      <th>1</th>\n",
       "      <td>Corals</td>\n",
       "      <td>2024</td>\n",
       "      <td>334</td>\n",
       "    </tr>\n",
       "    <tr>\n",
       "      <th>2</th>\n",
       "      <td>Crustaceans</td>\n",
       "      <td>2024</td>\n",
       "      <td>748</td>\n",
       "    </tr>\n",
       "    <tr>\n",
       "      <th>3</th>\n",
       "      <td>Fishes</td>\n",
       "      <td>2024</td>\n",
       "      <td>4017</td>\n",
       "    </tr>\n",
       "    <tr>\n",
       "      <th>4</th>\n",
       "      <td>Horseshoe Crabs</td>\n",
       "      <td>2024</td>\n",
       "      <td>2</td>\n",
       "    </tr>\n",
       "    <tr>\n",
       "      <th>5</th>\n",
       "      <td>Reptiles</td>\n",
       "      <td>2024</td>\n",
       "      <td>1845</td>\n",
       "    </tr>\n",
       "  </tbody>\n",
       "</table>\n",
       "</div>"
      ],
      "text/plain": [
       "            Entity  Year  Number of threatened species\n",
       "0       Amphibians  2024                          2873\n",
       "1           Corals  2024                           334\n",
       "2      Crustaceans  2024                           748\n",
       "3           Fishes  2024                          4017\n",
       "4  Horseshoe Crabs  2024                             2\n",
       "5         Reptiles  2024                          1845"
      ]
     },
     "execution_count": 136,
     "metadata": {},
     "output_type": "execute_result"
    }
   ],
   "source": [
    "# The aquatic_df will print the aquatic and semi-aquatic creatures \n",
    "aquatic_df = clean_df.drop([1,4,6,7,9])\n",
    "aquatic_df = aquatic_df.reset_index(drop = True)\n",
    "\n",
    "aquatic_df"
   ]
  },
  {
   "cell_type": "code",
   "execution_count": 138,
   "id": "ec767f33-02db-4dc1-9797-5fd61bad40ff",
   "metadata": {},
   "outputs": [
    {
     "data": {
      "text/plain": [
       "27969"
      ]
     },
     "execution_count": 138,
     "metadata": {},
     "output_type": "execute_result"
    }
   ],
   "source": [
    "# Created a combined dataset that totals the threatened plant groups.\n",
    "plants_sum = sum(plants_df['Number of threatened species'])\n",
    "plants_sum"
   ]
  },
  {
   "cell_type": "code",
   "execution_count": 140,
   "id": "b6266caf-a070-40a9-b6c7-8da5bf4bf69f",
   "metadata": {},
   "outputs": [
    {
     "data": {
      "text/plain": [
       "7383"
      ]
     },
     "execution_count": 140,
     "metadata": {},
     "output_type": "execute_result"
    }
   ],
   "source": [
    "# Created a combined dataset that totals the threatened terrestrial animals.\n",
    "terrestrial_sum = sum(terrestrial_df['Number of threatened species'])\n",
    "terrestrial_sum"
   ]
  },
  {
   "cell_type": "code",
   "execution_count": 142,
   "id": "a7b56935-54dc-4f10-bcb9-211bfd2809d1",
   "metadata": {},
   "outputs": [
    {
     "data": {
      "text/plain": [
       "9819"
      ]
     },
     "execution_count": 142,
     "metadata": {},
     "output_type": "execute_result"
    }
   ],
   "source": [
    "# Created a combined dataset that totals the aquatic creatures.\n",
    "aquatic_sum = sum(aquatic_df['Number of threatened species'])\n",
    "aquatic_sum"
   ]
  },
  {
   "cell_type": "code",
   "execution_count": 144,
   "id": "1ff23ca8-c09e-4ff7-8f41-e34b65b6ed1d",
   "metadata": {},
   "outputs": [
    {
     "data": {
      "text/html": [
       "<div>\n",
       "<style scoped>\n",
       "    .dataframe tbody tr th:only-of-type {\n",
       "        vertical-align: middle;\n",
       "    }\n",
       "\n",
       "    .dataframe tbody tr th {\n",
       "        vertical-align: top;\n",
       "    }\n",
       "\n",
       "    .dataframe thead th {\n",
       "        text-align: right;\n",
       "    }\n",
       "</style>\n",
       "<table border=\"1\" class=\"dataframe\">\n",
       "  <thead>\n",
       "    <tr style=\"text-align: right;\">\n",
       "      <th></th>\n",
       "      <th>Entity Type</th>\n",
       "      <th>Quantity</th>\n",
       "    </tr>\n",
       "  </thead>\n",
       "  <tbody>\n",
       "    <tr>\n",
       "      <th>0</th>\n",
       "      <td>Aquatic</td>\n",
       "      <td>9819</td>\n",
       "    </tr>\n",
       "    <tr>\n",
       "      <th>1</th>\n",
       "      <td>Terrestrial</td>\n",
       "      <td>7383</td>\n",
       "    </tr>\n",
       "    <tr>\n",
       "      <th>2</th>\n",
       "      <td>Plants</td>\n",
       "      <td>27969</td>\n",
       "    </tr>\n",
       "  </tbody>\n",
       "</table>\n",
       "</div>"
      ],
      "text/plain": [
       "   Entity Type  Quantity\n",
       "0      Aquatic      9819\n",
       "1  Terrestrial      7383\n",
       "2       Plants     27969"
      ]
     },
     "execution_count": 144,
     "metadata": {},
     "output_type": "execute_result"
    }
   ],
   "source": [
    "# Made new column names \n",
    "column_names = ['Entity Type','Quantity']\n",
    "# Created a dictionary with the total sum data frames. \n",
    "data = {}\n",
    "data['Entity Type'] = ['Aquatic', 'Terrestrial', 'Plants']  \n",
    "data['Quantity'] = [aquatic_sum, terrestrial_sum, plants_sum] \n",
    "summary_df = pd.DataFrame(data, columns=column_names)\n",
    "summary_df"
   ]
  },
  {
   "cell_type": "code",
   "execution_count": 146,
   "id": "dd069c12-9541-48b7-ade3-2b3517b09fac",
   "metadata": {},
   "outputs": [
    {
     "data": {
      "image/png": "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",
      "text/plain": [
       "<Figure size 640x480 with 1 Axes>"
      ]
     },
     "metadata": {},
     "output_type": "display_data"
    }
   ],
   "source": [
    "# Made a summary_df pie chart from matplot with the quantities converted to percentages. Also, customized the colors in the pie chart.\n",
    "# Turned the quantities in to percentage outputs\n",
    "label_counts = summary_df['Quantity']\n",
    "plt.pie(label_counts,\n",
    "        labels = summary_df['Entity Type'],\n",
    "        autopct = '%1.1f%%',\n",
    "        colors = ['aqua','brown','lightgreen'],\n",
    "       )\n",
    "plt.show()"
   ]
  },
  {
   "cell_type": "code",
<<<<<<< HEAD
   "execution_count": 148,
=======
<<<<<<< HEAD
   "execution_count": 60,
   "id": "fc5236b7-8c66-454b-a030-0860c41d417a",
   "metadata": {},
   "outputs": [],
   "source": [
    "#story:\n",
    "\n",
    "#discovering what types of species are most endagered, and then looking into other sources for\n",
    "#indications as to why certain species/ populations are more endagered than others.\n",
    "\n",
    "#discuss findings\n",
    "\n",
    "#find sources that give more insight for our trends\n",
    "\n",
    "### analyze the data first and then find sources that can get "
   ]
  },
  {
   "cell_type": "code",
   "execution_count": 61,
   "id": "1702a099-bb20-40df-ab27-11c3a5664eaa",
   "metadata": {},
   "outputs": [],
   "source": [
    "#DATA VISUALISATIONS:\n"
   ]
  },
  {
   "cell_type": "code",
   "execution_count": 67,
   "id": "fc9fa233-2234-41cd-a967-7e7178d1d26e",
   "metadata": {},
   "outputs": [],
   "source": [
    "import seaborn as sns"
   ]
  },
  {
   "cell_type": "code",
   "execution_count": null,
   "id": "c55ec009-e882-4219-b1b4-0ee9ed2d270d",
   "metadata": {},
   "outputs": [],
=======
   "execution_count": null,
>>>>>>> 999ded1edd9de9d66de2a49c7a33d032c2cb4a97
   "id": "f893d2ba-5d76-4968-a950-06981951b227",
   "metadata": {},
   "outputs": [
    {
     "data": {
      "text/plain": [
       "<matplotlib.legend.Legend at 0x291ace8a0>"
      ]
     },
     "execution_count": 148,
     "metadata": {},
     "output_type": "execute_result"
    },
    {
     "data": {
      "image/png": "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",
      "text/plain": [
       "<Figure size 640x480 with 1 Axes>"
      ]
     },
     "metadata": {},
     "output_type": "display_data"
    }
   ],
   "source": [
    "# Stacked bar chart using the pivot_df from the copied data frame\n",
    "p = pivot_df.plot(kind='bar',\n",
    "                  stacked=True,\n",
    "                  legend=False)\n",
    "plt.xlabel('Entity Type')\n",
    "plt.legend(bbox_to_anchor=(1.05,1), loc='upper left')"
   ]
  },
  {
   "cell_type": "code",
   "execution_count": null,
   "id": "53968eb6-fb1b-4c9b-be46-7eab731ffd0e",
   "metadata": {},
   "outputs": [],
>>>>>>> e5e3a903c82e58e5007ad362ffd2650755d8800e
   "source": []
  }
 ],
 "metadata": {
  "kernelspec": {
   "display_name": "Python 3 (ipykernel)",
   "language": "python",
   "name": "python3"
  },
  "language_info": {
   "codemirror_mode": {
    "name": "ipython",
    "version": 3
   },
   "file_extension": ".py",
   "mimetype": "text/x-python",
   "name": "python",
   "nbconvert_exporter": "python",
   "pygments_lexer": "ipython3",
   "version": "3.12.4"
  }
 },
 "nbformat": 4,
 "nbformat_minor": 5
}

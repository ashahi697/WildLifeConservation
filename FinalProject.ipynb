{
 "cells": [
  {
   "cell_type": "code",
   "execution_count": 5,
   "id": "9514c307-8d56-45d6-9fcd-a3bfe5dd23b8",
   "metadata": {},
   "outputs": [],
   "source": [
    "#import data\n",
    "\n",
    "import json\n",
    "\n",
    "file= open(\"number-species-threatened/number-species-threatened.metadata.json\", 'r')\n",
    "\n",
    "data = json.loads(file.read())\n",
    "           "
   ]
  },
  {
   "cell_type": "code",
   "execution_count": 7,
   "id": "9e896d18-2029-4852-b042-132075821db9",
   "metadata": {},
   "outputs": [
    {
     "data": {
      "text/plain": [
       "{'chart': {'title': 'Number of species threatened with extinction',\n",
       "  'subtitle': 'The IUCN Red List has assessed the [extinction risk](#dod:extinction_risk) of only a small share of the total known species in the world. This means the number of species threatened with extinction is likely to be a significant underestimate of the total number of species at risk.',\n",
       "  'note': \"'Threatened' species are those that are categorized as 'Critically endangered', 'Endangered' or 'Vulnerable' on the IUCN Red List.\",\n",
       "  'citation': 'International Union for Conservation of Nature Red List of Threatened Species (2024)',\n",
       "  'originalChartUrl': 'https://ourworldindata.org/grapher/number-species-threatened?v=1&csvType=full&useColumnShortNames=false',\n",
       "  'selection': ['Amphibians',\n",
       "   'Birds',\n",
       "   'Fishes',\n",
       "   'Reptiles',\n",
       "   'Mammals',\n",
       "   'Corals',\n",
       "   'Insects',\n",
       "   'Crustaceans',\n",
       "   'Arachnids']},\n",
       " 'columns': {'Number of threatened species': {'titleShort': 'Number of threatened species',\n",
       "   'titleLong': 'Number of threatened species',\n",
       "   'unit': 'species',\n",
       "   'timespan': '2024-2024',\n",
       "   'type': 'Integer',\n",
       "   'owidVariableId': 1004693,\n",
       "   'shortName': 'threatened_species',\n",
       "   'lastUpdated': '2024-12-23',\n",
       "   'citationShort': 'International Union for Conservation of Nature Red List of Threatened Species (2024) – processed by Our World in Data',\n",
       "   'citationLong': 'International Union for Conservation of Nature Red List of Threatened Species (2024) – processed by Our World in Data. “Number of threatened species” [dataset]. International Union for Conservation of Nature, “International Union for Conservation of Nature Red List of Threatened Species” [original data].',\n",
       "   'fullMetadata': 'https://api.ourworldindata.org/v1/indicators/1004693.metadata.json'}},\n",
       " 'dateDownloaded': '2025-07-03',\n",
       " 'activeFilters': {}}"
      ]
     },
     "execution_count": 7,
     "metadata": {},
     "output_type": "execute_result"
    }
   ],
   "source": [
    "#Looking at our data source\n",
    "data"
   ]
  },
  {
   "cell_type": "code",
   "execution_count": 24,
   "id": "f3a6eb2b-85b9-4397-bf93-11b4c48b25db",
   "metadata": {},
   "outputs": [],
   "source": [
    "import pprint"
   ]
  },
  {
   "cell_type": "code",
   "execution_count": 30,
   "id": "3b748fa9-9a1f-4867-bcf6-9fe53539da67",
   "metadata": {},
   "outputs": [
    {
     "name": "stdout",
     "output_type": "stream",
     "text": [
      "{'activeFilters': {},\n",
      " 'chart': {'citation': 'International Union for Conservation of Nature Red '\n",
      "                       'List of Threatened Species (2024)',\n",
      "           'note': \"'Threatened' species are those that are categorized as \"\n",
      "                   \"'Critically endangered', 'Endangered' or 'Vulnerable' on \"\n",
      "                   'the IUCN Red List.',\n",
      "           'originalChartUrl': 'https://ourworldindata.org/grapher/number-species-threatened?v=1&csvType=full&useColumnShortNames=false',\n",
      "           'selection': ['Amphibians',\n",
      "                         'Birds',\n",
      "                         'Fishes',\n",
      "                         'Reptiles',\n",
      "                         'Mammals',\n",
      "                         'Corals',\n",
      "                         'Insects',\n",
      "                         'Crustaceans',\n",
      "                         'Arachnids'],\n",
      "           'subtitle': 'The IUCN Red List has assessed the [extinction '\n",
      "                       'risk](#dod:extinction_risk) of only a small share of '\n",
      "                       'the total known species in the world. This means the '\n",
      "                       'number of species threatened with extinction is likely '\n",
      "                       'to be a significant underestimate of the total number '\n",
      "                       'of species at risk.',\n",
      "           'title': 'Number of species threatened with extinction'},\n",
      " 'columns': {'Number of threatened species': {'citationLong': 'International '\n",
      "                                                              'Union for '\n",
      "                                                              'Conservation of '\n",
      "                                                              'Nature Red List '\n",
      "                                                              'of Threatened '\n",
      "                                                              'Species (2024) '\n",
      "                                                              '– processed by '\n",
      "                                                              'Our World in '\n",
      "                                                              'Data. “Number '\n",
      "                                                              'of threatened '\n",
      "                                                              'species” '\n",
      "                                                              '[dataset]. '\n",
      "                                                              'International '\n",
      "                                                              'Union for '\n",
      "                                                              'Conservation of '\n",
      "                                                              'Nature, '\n",
      "                                                              '“International '\n",
      "                                                              'Union for '\n",
      "                                                              'Conservation of '\n",
      "                                                              'Nature Red List '\n",
      "                                                              'of Threatened '\n",
      "                                                              'Species” '\n",
      "                                                              '[original '\n",
      "                                                              'data].',\n",
      "                                              'citationShort': 'International '\n",
      "                                                               'Union for '\n",
      "                                                               'Conservation '\n",
      "                                                               'of Nature Red '\n",
      "                                                               'List of '\n",
      "                                                               'Threatened '\n",
      "                                                               'Species (2024) '\n",
      "                                                               '– processed by '\n",
      "                                                               'Our World in '\n",
      "                                                               'Data',\n",
      "                                              'fullMetadata': 'https://api.ourworldindata.org/v1/indicators/1004693.metadata.json',\n",
      "                                              'lastUpdated': '2024-12-23',\n",
      "                                              'owidVariableId': 1004693,\n",
      "                                              'shortName': 'threatened_species',\n",
      "                                              'timespan': '2024-2024',\n",
      "                                              'titleLong': 'Number of '\n",
      "                                                           'threatened species',\n",
      "                                              'titleShort': 'Number of '\n",
      "                                                            'threatened '\n",
      "                                                            'species',\n",
      "                                              'type': 'Integer',\n",
      "                                              'unit': 'species'}},\n",
      " 'dateDownloaded': '2025-07-03'}\n"
     ]
    }
   ],
   "source": [
    "pprint.pprint(data)"
   ]
  },
  {
   "cell_type": "code",
   "execution_count": null,
   "id": "a13471e4-2471-4a9c-afae-2da49ee5cb95",
   "metadata": {},
   "outputs": [],
   "source": []
  }
 ],
 "metadata": {
  "kernelspec": {
   "display_name": "Python 3 (ipykernel)",
   "language": "python",
   "name": "python3"
  },
  "language_info": {
   "codemirror_mode": {
    "name": "ipython",
    "version": 3
   },
   "file_extension": ".py",
   "mimetype": "text/x-python",
   "name": "python",
   "nbconvert_exporter": "python",
   "pygments_lexer": "ipython3",
   "version": "3.12.4"
  }
 },
 "nbformat": 4,
 "nbformat_minor": 5
}
